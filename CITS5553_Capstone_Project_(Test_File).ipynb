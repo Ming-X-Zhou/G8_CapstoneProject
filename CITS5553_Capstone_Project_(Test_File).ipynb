{
  "nbformat": 4,
  "nbformat_minor": 0,
  "metadata": {
    "colab": {
      "provenance": [],
      "authorship_tag": "ABX9TyNsNVy8CcLK0KVUNrNmqJtP",
      "include_colab_link": true
    },
    "kernelspec": {
      "name": "python3",
      "display_name": "Python 3"
    },
    "language_info": {
      "name": "python"
    }
  },
  "cells": [
    {
      "cell_type": "markdown",
      "metadata": {
        "id": "view-in-github",
        "colab_type": "text"
      },
      "source": [
        "<a href=\"https://colab.research.google.com/github/Ming-X-Zhou/G8_CapstoneProject/blob/main/CITS5553_Capstone_Project_(Test_File).ipynb\" target=\"_parent\"><img src=\"https://colab.research.google.com/assets/colab-badge.svg\" alt=\"Open In Colab\"/></a>"
      ]
    },
    {
      "cell_type": "markdown",
      "source": [
        "# CITS5553 Capstone Project: Group 8"
      ],
      "metadata": {
        "id": "glJ8KBV_ddAK"
      }
    },
    {
      "cell_type": "markdown",
      "source": [
        "## Readme\n",
        "This is a test file for Github repo"
      ],
      "metadata": {
        "id": "Wtg_T7gPdjH2"
      }
    },
    {
      "cell_type": "markdown",
      "source": [
        "*italicized text*"
      ],
      "metadata": {
        "id": "p5ssqIY5d4Jz"
      }
    },
    {
      "cell_type": "code",
      "execution_count": 3,
      "metadata": {
        "id": "1T0kKUVxdSQL",
        "colab": {
          "base_uri": "https://localhost:8080/"
        },
        "outputId": "c8816e99-326a-494c-bd7a-25029432a2f6"
      },
      "outputs": [
        {
          "output_type": "stream",
          "name": "stdout",
          "text": [
            "hello world!\n"
          ]
        }
      ],
      "source": [
        "print ('hello world!')"
      ]
    },
    {
      "cell_type": "markdown",
      "source": [
        "### Using paython and r on the same markdown"
      ],
      "metadata": {
        "id": "hsrfjJ5TlKL_"
      }
    },
    {
      "cell_type": "code",
      "source": [
        "%load_ext rpy2.ipython"
      ],
      "metadata": {
        "id": "pvfpWbwZj3wl"
      },
      "execution_count": 5,
      "outputs": []
    },
    {
      "cell_type": "code",
      "source": [
        "# activate R magic\n",
        "%load_ext rpy2.ipython"
      ],
      "metadata": {
        "colab": {
          "base_uri": "https://localhost:8080/"
        },
        "id": "tpqbHA6vkBtJ",
        "outputId": "90dbb101-5a99-40b0-ef35-c836f8bf6c09"
      },
      "execution_count": 6,
      "outputs": [
        {
          "output_type": "stream",
          "name": "stdout",
          "text": [
            "The rpy2.ipython extension is already loaded. To reload it, use:\n",
            "  %reload_ext rpy2.ipython\n"
          ]
        }
      ]
    },
    {
      "cell_type": "code",
      "source": [
        "%%R\n",
        "\n",
        "x <- 3+2\n",
        "x"
      ],
      "metadata": {
        "colab": {
          "base_uri": "https://localhost:8080/"
        },
        "id": "vzIfakHvk163",
        "outputId": "ac0bc5f3-1486-4225-aaae-c947532b1df8"
      },
      "execution_count": 9,
      "outputs": [
        {
          "output_type": "stream",
          "name": "stdout",
          "text": [
            "[1] 5\n"
          ]
        }
      ]
    }
  ]
}