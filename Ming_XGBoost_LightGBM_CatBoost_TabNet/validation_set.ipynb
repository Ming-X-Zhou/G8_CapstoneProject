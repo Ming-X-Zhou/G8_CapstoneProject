{
 "cells": [
  {
   "cell_type": "markdown",
   "id": "fd4482aa-55c9-4618-b814-db0834f77573",
   "metadata": {
    "tags": []
   },
   "source": [
    "## Random Selected 10-combined for testing"
   ]
  },
  {
   "cell_type": "code",
   "execution_count": null,
   "id": "18b96943-a9b0-446b-91cd-894a44f6fbed",
   "metadata": {},
   "outputs": [],
   "source": [
    "import pandas as pd"
   ]
  },
  {
   "cell_type": "code",
   "execution_count": null,
   "id": "55c99fe6-e852-472e-a3ac-cefd4d018e92",
   "metadata": {
    "tags": []
   },
   "outputs": [],
   "source": [
    "df = pd.read_csv('10_combined.csv')\n",
    "fe_oxide = df[df['Mineral Phase'] == 'Fe-Oxide'].sample(7000, random_state=42)\n",
    "background = df[df['Mineral Phase'] == 'Background'].sample(7000, random_state=42)\n",
    "\n",
    "# Exclude 'Fe-Oxide' and 'Background' from the original dataframe\n",
    "df = df[~df['Mineral Phase'].isin(['Fe-Oxide', 'Background'])]\n",
    "\n",
    "# Concatenate the downsampled sets with the remaining dataframe\n",
    "df = pd.concat([df, fe_oxide, background], axis=0)\n",
    "df = df.sample(frac=1, random_state=42).reset_index(drop=True)\n",
    "\n",
    "df.to_csv('10_combined_shuffled.csv', index=False)"
   ]
  },
  {
   "cell_type": "code",
   "execution_count": 3,
   "id": "bfb6196b-fece-4128-aa9c-dda048df4e99",
   "metadata": {
    "tags": []
   },
   "outputs": [
    {
     "data": {
      "text/plain": [
       "Fe-Oxide            7000\n",
       "Background          7000\n",
       "Ilmenite            5808\n",
       "Epidote             5193\n",
       "AlFe-Silicate       4306\n",
       "Amphibole           3984\n",
       "AlMn-Silicate       3864\n",
       "Titanite            1768\n",
       "Fe-Silicate         1229\n",
       "Fe-Sulphide         1079\n",
       "Rutile               611\n",
       "Unknown              429\n",
       "Monazite             408\n",
       "AlK-Silicate         338\n",
       "Tourmaline           204\n",
       "Quartz               182\n",
       "Zircon               179\n",
       "Al-Silicate          124\n",
       "AlCa-Silicate         69\n",
       "RM ONLY               56\n",
       "Xenotime              35\n",
       "Zn-Oxide              33\n",
       "Chromite              22\n",
       "Al-Oxide              18\n",
       "Cassiterite           15\n",
       "Barite                15\n",
       "REE-Silicate          14\n",
       "Celestine             13\n",
       "Mn-Oxide              12\n",
       "Leucoxene             12\n",
       "AlFe-Silicate_Zn      10\n",
       "Apatite                6\n",
       "Fe-Sulphide_Zn         5\n",
       "Thorite                2\n",
       "Fe-sulphide_Pb         1\n",
       "MgAl-Oxide             1\n",
       "Name: Mineral Phase, dtype: int64"
      ]
     },
     "execution_count": 3,
     "metadata": {},
     "output_type": "execute_result"
    }
   ],
   "source": [
    "df['Mineral Phase'].value_counts()"
   ]
  },
  {
   "cell_type": "code",
   "execution_count": 5,
   "id": "5b21d77b-07c6-4c2d-874a-98100d9b7a75",
   "metadata": {
    "tags": []
   },
   "outputs": [
    {
     "data": {
      "text/plain": [
       "(44045, 4101)"
      ]
     },
     "execution_count": 5,
     "metadata": {},
     "output_type": "execute_result"
    }
   ],
   "source": [
    "df.shape"
   ]
  },
  {
   "cell_type": "markdown",
   "id": "d03eae86-b559-4f26-ba8e-595dc28d41c6",
   "metadata": {},
   "source": [
    "## Balanced Randomly Selected Testing Set"
   ]
  },
  {
   "cell_type": "code",
   "execution_count": 14,
   "id": "76a57a17-e3ba-42e6-866f-75daa5b70a3b",
   "metadata": {
    "tags": []
   },
   "outputs": [
    {
     "name": "stdout",
     "output_type": "stream",
     "text": [
      "Processing file: Fe-Oxide.csv\n",
      "Sampled 3000 rows from Fe-Oxide.csv.\n",
      "Processing file: Background.csv\n",
      "Sampled 3000 rows from Background.csv.\n",
      "Processing file: Ilmenite.csv\n",
      "Sampled 3000 rows from Ilmenite.csv.\n",
      "Processing file: Epidote.csv\n",
      "Sampled 3000 rows from Epidote.csv.\n",
      "Processing file: Amphibole.csv\n",
      "Sampled 3000 rows from Amphibole.csv.\n",
      "Processing file: AlFe-Silicate.csv\n",
      "Sampled 3000 rows from AlFe-Silicate.csv.\n",
      "Processing file: Fe-Silicate.csv\n",
      "Sampled 3000 rows from Fe-Silicate.csv.\n",
      "Processing file: Titanite.csv\n",
      "Sampled 3000 rows from Titanite.csv.\n",
      "Processing file: AlMn-Silicate.csv\n",
      "Sampled 3000 rows from AlMn-Silicate.csv.\n",
      "Processing file: Rutile.csv\n",
      "Sampled 3000 rows from Rutile.csv.\n",
      "Processing file: Zircon.csv\n",
      "Sampled 3000 rows from Zircon.csv.\n",
      "Processing file: Monazite.csv\n",
      "Sampled 3000 rows from Monazite.csv.\n",
      "Processing file: Quartz.csv\n",
      "Sampled 3000 rows from Quartz.csv.\n",
      "Processing file: Cassiterite.csv\n",
      "Sampled 3000 rows from Cassiterite.csv.\n",
      "Processing file: AlK-Silicate.csv\n",
      "Sampled 3000 rows from AlK-Silicate.csv.\n",
      "Processing file: Barite.csv\n",
      "Sampled 3000 rows from Barite.csv.\n",
      "Processing file: Al-Silicate.csv\n",
      "Sampled 3000 rows from Al-Silicate.csv.\n",
      "Processing file: Chromite.csv\n",
      "Sampled 3000 rows from Chromite.csv.\n",
      "Processing file: Leucoxene.csv\n",
      "Sampled 3000 rows from Leucoxene.csv.\n",
      "Processing file: Fe-Sulphide.csv\n",
      "Sampled 3000 rows from Fe-Sulphide.csv.\n",
      "Processing file: AlCa-Silicate.csv\n",
      "Sampled 3000 rows from AlCa-Silicate.csv.\n",
      "Processing file: Apatite.csv\n",
      "Sampled 3000 rows from Apatite.csv.\n",
      "Processing file: Xenotime.csv\n",
      "Sampled 3000 rows from Xenotime.csv.\n",
      "Processing file: Carbonate.csv\n",
      "Sampled 3000 rows from Carbonate.csv.\n",
      "\n",
      "Processing complete. Final dataset shape: (72000, 4101)\n"
     ]
    }
   ],
   "source": [
    "import pandas as pd\n",
    "import os\n",
    "\n",
    "labels = [\n",
    "    \"Fe-Oxide\", \"Background\", \"Ilmenite\", \"Epidote\", \"Amphibole\", \"AlFe-Silicate\", \"Fe-Silicate\",\n",
    "    \"Titanite\", \"AlMn-Silicate\", \"Rutile\", \"Zircon\", \"Monazite\", \"Quartz\", \"Cassiterite\",\n",
    "    \"AlK-Silicate\", \"Barite\", \"Al-Silicate\", \"Chromite\", \"Leucoxene\", \"Fe-Sulphide\",\n",
    "    \"AlCa-Silicate\", \"Apatite\", \"Xenotime\", \"Carbonate\"\n",
    "]\n",
    "\n",
    "# Construct expected file names based on labels\n",
    "expected_files = [label + \".csv\" for label in labels]\n",
    "\n",
    "# List all files in the directory\n",
    "files = [f for f in os.listdir(\"E:\\\\CP_processed_data\") if os.path.isfile(os.path.join(\"E:\\\\CP_processed_data\", f))]\n",
    "\n",
    "# Filter out the relevant files that match our expected file names\n",
    "relevant_files = [f for f in files if f in expected_files]\n",
    "\n",
    "# Create an empty dataframe to store our combined data\n",
    "all_data = pd.DataFrame()\n",
    "\n",
    "# Process each relevant file\n",
    "for file in relevant_files:\n",
    "    path = os.path.join(\"E:\\\\CP_processed_data\", file)\n",
    "    print(f\"Processing file: {file}\")\n",
    "    \n",
    "    # Read the entire file\n",
    "    data = pd.read_csv(path)\n",
    "    \n",
    "    # Ensure there are at least 2000 rows to sample from\n",
    "    if len(data) >= 3000:\n",
    "        # Randomly sample 2000 rows from the file\n",
    "        sampled_data = data.sample(n=3000, replace=False, random_state=1)\n",
    "        all_data = pd.concat([all_data, sampled_data])\n",
    "        print(f\"Sampled 3000 rows from {file}.\")\n",
    "    else:\n",
    "        print(f\"Warning: {file} has less than 3000 rows. Skipping.\")\n",
    "\n",
    "# Reset index for the new combined dataset\n",
    "all_data.reset_index(drop=True, inplace=True)\n",
    "\n",
    "print(\"\\nProcessing complete. Final dataset shape:\", all_data.shape)"
   ]
  },
  {
   "cell_type": "code",
   "execution_count": 17,
   "id": "d4e48db4-50d6-4b95-bd9d-807b20846212",
   "metadata": {
    "tags": []
   },
   "outputs": [],
   "source": [
    "# Retain the desired columns\n",
    "desired_columns = [f\"CH_{i}\" for i in range(121, 2331)] + ['Mineral Phase']\n",
    "all_data = all_data[desired_columns]\n",
    "\n",
    "# Aggregate every 8 columns\n",
    "aggregated_data = []\n",
    "for i in range(121, 2324, 8):  # 2324 is 2330 - 8 + 1\n",
    "    col_names = [f\"CH_{j}\" for j in range(i, i+8)]\n",
    "    all_data[f\"Agg_{i}_{i+7}\"] = all_data[col_names].sum(axis=1)\n",
    "    aggregated_data.append(f\"Agg_{i}_{i+7}\")\n",
    "\n",
    "# Keep only aggregated columns and 'Mineral Phase'\n",
    "all_data = all_data[aggregated_data + ['Mineral Phase']]\n",
    "    \n",
    "# Shuffle the dataset\n",
    "all_data_shuffled = all_data.sample(frac=1).reset_index(drop=True)"
   ]
  },
  {
   "cell_type": "code",
   "execution_count": 18,
   "id": "602efb43-30ef-43a7-8573-bff1cd783fb7",
   "metadata": {
    "tags": []
   },
   "outputs": [
    {
     "name": "stdout",
     "output_type": "stream",
     "text": [
      "Shape of the dataset: (72000, 277)\n",
      "\n",
      "Label Counts:\n",
      "Carbonate        3000\n",
      "Xenotime         3000\n",
      "Zircon           3000\n",
      "AlFe-Silicate    3000\n",
      "Ilmenite         3000\n",
      "Titanite         3000\n",
      "Apatite          3000\n",
      "Amphibole        3000\n",
      "AlCa-Silicate    3000\n",
      "Leucoxene        3000\n",
      "Monazite         3000\n",
      "Cassiterite      3000\n",
      "Al-Silicate      3000\n",
      "Epidote          3000\n",
      "Rutile           3000\n",
      "Fe-Silicate      3000\n",
      "AlK-Silicate     3000\n",
      "Quartz           3000\n",
      "Background       3000\n",
      "AlMn-Silicate    3000\n",
      "Barite           3000\n",
      "Chromite         3000\n",
      "Fe-Sulphide      3000\n",
      "Fe-Oxide         3000\n",
      "Name: Mineral Phase, dtype: int64\n"
     ]
    }
   ],
   "source": [
    "# Print the shape and value counts\n",
    "print(f\"Shape of the dataset: {all_data_shuffled.shape}\")\n",
    "print(\"\\nLabel Counts:\")\n",
    "print(all_data_shuffled['Mineral Phase'].value_counts())"
   ]
  },
  {
   "cell_type": "code",
   "execution_count": 19,
   "id": "2d602092-0877-41c2-94c3-a3ef72d16fc7",
   "metadata": {
    "tags": []
   },
   "outputs": [],
   "source": [
    "all_data_shuffled.to_csv('balanced_testing_set.csv', index=False)"
   ]
  }
 ],
 "metadata": {
  "kernelspec": {
   "display_name": "Python 3 (ipykernel)",
   "language": "python",
   "name": "python3"
  },
  "language_info": {
   "codemirror_mode": {
    "name": "ipython",
    "version": 3
   },
   "file_extension": ".py",
   "mimetype": "text/x-python",
   "name": "python",
   "nbconvert_exporter": "python",
   "pygments_lexer": "ipython3",
   "version": "3.11.4"
  }
 },
 "nbformat": 4,
 "nbformat_minor": 5
}
