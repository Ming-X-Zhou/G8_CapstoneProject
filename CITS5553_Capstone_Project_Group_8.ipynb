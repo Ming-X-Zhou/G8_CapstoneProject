{
  "nbformat": 4,
  "nbformat_minor": 0,
  "metadata": {
    "colab": {
      "provenance": [],
      "authorship_tag": "ABX9TyNgAZhN64EbgdlT0yWP34Eb",
      "include_colab_link": true
    },
    "kernelspec": {
      "name": "python3",
      "display_name": "Python 3"
    },
    "language_info": {
      "name": "python"
    }
  },
  "cells": [
    {
      "cell_type": "markdown",
      "metadata": {
        "id": "view-in-github",
        "colab_type": "text"
      },
      "source": [
        "<a href=\"https://colab.research.google.com/github/Ming-X-Zhou/G8_CapstoneProject/blob/main/CITS5553_Capstone_Project_Group_8.ipynb\" target=\"_parent\"><img src=\"https://colab.research.google.com/assets/colab-badge.svg\" alt=\"Open In Colab\"/></a>"
      ]
    },
    {
      "cell_type": "markdown",
      "source": [
        "# 2023 CITS5553 Capstone Project: Group 8"
      ],
      "metadata": {
        "id": "glJ8KBV_ddAK"
      }
    },
    {
      "cell_type": "markdown",
      "source": [
        "## Readme\n",
        "This is a test file for Github repo"
      ],
      "metadata": {
        "id": "Wtg_T7gPdjH2"
      }
    },
    {
      "cell_type": "markdown",
      "source": [],
      "metadata": {
        "id": "p5ssqIY5d4Jz"
      }
    },
    {
      "cell_type": "code",
      "execution_count": null,
      "metadata": {
        "id": "1T0kKUVxdSQL"
      },
      "outputs": [],
      "source": []
    }
  ]
}