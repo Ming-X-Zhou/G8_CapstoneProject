{
 "cells": [
  {
   "cell_type": "markdown",
   "id": "e729dbb8",
   "metadata": {
    "id": "e729dbb8"
   },
   "source": [
    "# CITS5553 Data Capstone Project\n",
    "## Classifying Mineral Grains Using Data Science\n",
    "### Peter Millitz (Student No. 23088298)\n",
    "### Date: 22 Oct 2023    \n"
   ]
  },
  {
   "cell_type": "markdown",
   "id": "d1a564c3",
   "metadata": {
    "id": "d1a564c3"
   },
   "source": [
    "## 1. Introduction"
   ]
  },
  {
   "cell_type": "markdown",
   "id": "01b4f727",
   "metadata": {},
   "source": [
    "Portable Spectral Services (PSS) are a provider of in-house sampling services using various spectral technologies including micro-XRF (X-ray Fluorescence). PSS analyse samples typically in the form of mineral grains submitted by mining companies seeking to identify the precise mineral content of samples which is critical for mineral exploration but also essential for mine planning and production. In seeking to improve their capabilities, PSS had tasked the UWA Data Science Capstone Project, G8 project team, of which this author was a member, to investigate and evaluate a data science solution to the classification of mineral grains. In particular, they required that the solution must:\n",
    "\n",
    "1. *Be rapid, accurate and precise*\n",
    "2. *Quantify uncertainty in terms of a prediction probability*\n",
    "3. *Identify both the critical and obsolete components of the classification*\n",
    "\n",
    "The Mineral grains dataset, as supplied, comprised 8327 individual files or samples in tabular (CSV) format with each sample containing anywhere between 6160 to 12210 labelled spectra (rows) and each spectrum (observation) comprised of 4096 channels (columns), each recording radiation count rates for a specific energy window. Additional columns included sample grid location (X-Y coordinates), a total counts column ('Sum') and the 'Mineral Phase' label in the last column.\n",
    "\n",
    "An analysis of the dataset identified the following key characteristics:\n",
    "\n",
    "* **Large data volume**: more than 63 million observations of 51 unique mineral labels, a total size on disk of 497 GB\n",
    "* **High-dimensionality**: 4097 columns i.e., features (4096 channels plus 'Sum')\n",
    "* **Sparsity**: a significant number of columns contained zero values\n",
    "* **Class imbalance**: the top nine classes (labels) had over 1 million counts each in contrast to the lowest five which had 50 or less counts each. \n",
    "* **Missing data**: 1320 samples (almost 16% of the entire dataset) found to have one or two columns missing ('Ch_4095' and 'CH_4096').\n",
    "\n",
    "The primary objective adopted here was part of a broader group strategy whereby various Data Science techniques were employed and a diverse range of ML/DL models constructed, trialled and evaluated by the team in order to gain insight into the most feasible and practical solution to the current problem. Specifically, the author's contribution was an endevour to construct a machine learning model that was robust, easily interpretable and which established a baseline classifier that met all of the projects requirements whilst attempting to meet or exceeded the current misclassification rate achieved by existing PSS semi-automated workflows.\n",
    "\n",
    "The algorithm chosen to meet this challenge was the Python scikit-learn linear model *SGDClassifier* class which implements regularised logistic regression with Stochastic Gradient Descent (SGD) learning. This particular classifier algorithm was chosen by the author because it is capable of multi-class output with prediction probabilities for each class label. The regulariser is a penalty added to the loss function that shrinks model coefficients to zero, using in this case the absolute norm L1, which allows for learning sparse models and achieving online feature selection. The algorithm also returns the model weights as an attribute and provides a method for out-of-core learning.\n",
    "\n",
    "A separate pre-processing pipeline jupyter notebook \"*mineral_preprocessing.ipynb*\" deals with the issues of class imbalance, missing data and dimensionality reduction."
   ]
  },
  {
   "cell_type": "markdown",
   "id": "4d09b226",
   "metadata": {
    "id": "4d09b226"
   },
   "source": [
    "## 2. Methodology"
   ]
  },
  {
   "cell_type": "markdown",
   "id": "4779cbfc",
   "metadata": {},
   "source": [
    "The size of the dataset posed an immediate practical constraint on model design and training capacity. For initial testing, it was decided to focus on just the top five most frequently occuring minerals to demonstrate proof of concept (later expanded to 10 and 23 minerals). Preliminary testing indicated the optimal number training samples was around 10000 observations per mineral which was consistent with the experience of some others in the team. A series of bash scripts were written to to randomly 'harvest' 10000 observations for each of the five minerals from the entire dataset and to concatenate these observations into a single file for the next stage of pre-processing.\n",
    "\n",
    "The raw concatenated file was then fed into a separate jupyter notebook for processing in Python. The purpose of this stage was to (i) detect and fill missing values (ii) remove unused and redundant columns (as advised by the client) and (iii) to check for the correct minerals and to balance the number of observations per mineral if this had not been done in the first stage. The processed file was then exported (with \"proc\" suffix) ready for the model construction and training phase (this notebook). \n",
    "\n",
    "The processed input file prepared for this instance of the notebook comprises a random sample of the top 10 most frequently occurring minerals with 13000 randomly selected observations per mineral and is based on a common training set used amongst the team. After loading the file, it was examined and analysed with brief statistical descriptions displayed.\n",
    "\n",
    "The next stage involved preparing the training and test sets using a random split ratio of 80:20. \n",
    "The training features (X_train) were then standardised (centred and scaled). The same scaler transform was then applied to the test feature set (X_test).\n",
    " \n",
    "The modelling phase began with a 3-fold cross-validated grid search of optimal hyperparameters for the model. In this case, 'alpha' which controls the degree of regularisation (the higher the value, the stronger the regularization) and 'max_iter' which is the maximum number of passes over the training data (aka epochs). The search was conducted in two passes, one pass holding alpha fixed while fitting a range of max_iter and the second pass fixing max_iter and varying alpha. The model was then trained using the resulting optimal hyperparameters.\n",
    "\n",
    "Once fitted, the model outputs (classes, model weights) were examined/visualised and exported in an appropriate format (.csv file or .png image file). A formal evaluation of the model was then conducted on the basis of 3-fold cross-validated predictions generated on the training data with a confusion matrix and classification performance report summarising the results. Prediction probabilities were also generated and exported along with the mineral predictions for each observation (both as .csv files). \n",
    "\n",
    "Predictions and prediction probabilities were then generated (and exported) on the hitherto unseen (balanced) test data set and similar performance metrics generated.\n",
    "\n",
    "Finally, the model was used to predict the minerals on an arbitrary, unbalanced and randomly selected data set (a standard test set used by all members of the team). All outputs were exported and the perfomance metrics produced in the usual manner."
   ]
  },
  {
   "cell_type": "markdown",
   "id": "6997a4cc",
   "metadata": {
    "id": "6997a4cc"
   },
   "source": [
    "## 3. Application and Results"
   ]
  },
  {
   "cell_type": "markdown",
   "id": "6fc89969",
   "metadata": {
    "id": "6fc89969"
   },
   "source": [
    "### 3.1 Setup and configuration"
   ]
  },
  {
   "cell_type": "markdown",
   "id": "f8e7bc8f",
   "metadata": {
    "id": "f8e7bc8f"
   },
   "source": [
    "#### 3.1.1 Load common libraries and settings"
   ]
  },
  {
   "cell_type": "code",
   "execution_count": 1,
   "id": "b957389c",
   "metadata": {
    "executionInfo": {
     "elapsed": 493,
     "status": "ok",
     "timestamp": 1697458018610,
     "user": {
      "displayName": "Peter Millitz",
      "userId": "04527370084934815264"
     },
     "user_tz": -480
    },
    "id": "b957389c",
    "scrolled": false
   },
   "outputs": [],
   "source": [
    "import pandas as pd\n",
    "import numpy as np\n",
    "import time\n",
    "import os\n",
    "\n",
    "from sklearn.linear_model import SGDClassifier\n",
    "from sklearn.metrics import confusion_matrix, ConfusionMatrixDisplay\n",
    "from sklearn.metrics import classification_report\n",
    "from sklearn.metrics import roc_curve\n",
    "from sklearn.metrics import roc_auc_score\n",
    "from sklearn.model_selection import train_test_split\n",
    "from sklearn.model_selection import cross_val_predict\n",
    "from sklearn.model_selection import cross_val_score\n",
    "from sklearn.model_selection import GridSearchCV\n",
    "from sklearn.preprocessing import StandardScaler\n",
    "from sklearn.metrics import mean_squared_error\n",
    "from imblearn.under_sampling import RandomUnderSampler\n",
    "\n",
    "from IPython.core.display import Markdown\n",
    "\n",
    "%matplotlib inline\n",
    "import matplotlib as mpl\n",
    "import matplotlib.pyplot as plt\n",
    "mpl.rc('axes', labelsize=12)\n",
    "mpl.rc('xtick', labelsize=10)\n",
    "mpl.rc('ytick', labelsize=10)\n",
    "\n",
    "# Where to save the figures\n",
    "#PROJECT_ROOT_DIR = \".\"\n",
    "#IMAGES_PATH = os.path.join(PROJECT_ROOT_DIR, \"images\")\n",
    "#os.makedirs(IMAGES_PATH, exist_ok=True)"
   ]
  },
  {
   "cell_type": "markdown",
   "id": "5d0631f1",
   "metadata": {
    "id": "5d0631f1"
   },
   "source": [
    "#### 3.1.2 Data repository access"
   ]
  },
  {
   "cell_type": "code",
   "execution_count": 2,
   "id": "6JB0PeSpBr7p",
   "metadata": {
    "colab": {
     "base_uri": "https://localhost:8080/"
    },
    "executionInfo": {
     "elapsed": 24,
     "status": "ok",
     "timestamp": 1697458043896,
     "user": {
      "displayName": "Peter Millitz",
      "userId": "04527370084934815264"
     },
     "user_tz": -480
    },
    "id": "6JB0PeSpBr7p",
    "outputId": "fdc72c80-9535-4396-d305-837bc0f41b4c"
   },
   "outputs": [
    {
     "data": {
      "text/plain": [
       "True"
      ]
     },
     "execution_count": 2,
     "metadata": {},
     "output_type": "execute_result"
    }
   ],
   "source": [
    "os.access(\"G:/Modelling\", os.F_OK)"
   ]
  },
  {
   "cell_type": "markdown",
   "id": "d876cb76",
   "metadata": {
    "id": "d876cb76"
   },
   "source": [
    "### 3.2 Load and  examine the pre-processed dataset"
   ]
  },
  {
   "cell_type": "markdown",
   "id": "imPAFtAaTksp",
   "metadata": {
    "id": "imPAFtAaTksp"
   },
   "source": [
    "**Note**: Input files loaded into this notebook are assumed to have been pre-processed. A separate Python Notebook (\"*minerals_pre-processing.ipynb*\") is provided for this purpose."
   ]
  },
  {
   "cell_type": "markdown",
   "id": "bc0f1678",
   "metadata": {
    "id": "bc0f1678"
   },
   "source": [
    "#### 3.2.1 Load the pre-conditioned dataset"
   ]
  },
  {
   "cell_type": "code",
   "execution_count": 3,
   "id": "b2e78154",
   "metadata": {
    "executionInfo": {
     "elapsed": 73639,
     "status": "ok",
     "timestamp": 1697458117531,
     "user": {
      "displayName": "Peter Millitz",
      "userId": "04527370084934815264"
     },
     "user_tz": -480
    },
    "id": "b2e78154",
    "scrolled": false
   },
   "outputs": [],
   "source": [
    "# Load the csv formatted file\n",
    "pss = pd.read_csv(\"G:/Modelling/FINAL_PROCESSED/top10_13K_final_proc.csv\")"
   ]
  },
  {
   "cell_type": "markdown",
   "id": "9528d82b",
   "metadata": {},
   "source": [
    "#### 3.2.2 Examine and display statistics or the pre-conditioned dataset"
   ]
  },
  {
   "cell_type": "code",
   "execution_count": 4,
   "id": "c49e5258",
   "metadata": {
    "colab": {
     "base_uri": "https://localhost:8080/",
     "height": 360
    },
    "executionInfo": {
     "elapsed": 57,
     "status": "ok",
     "timestamp": 1697458117532,
     "user": {
      "displayName": "Peter Millitz",
      "userId": "04527370084934815264"
     },
     "user_tz": -480
    },
    "id": "c49e5258",
    "outputId": "f7be6178-a2ec-4a32-af68-cb1e95bce3bd",
    "scrolled": false
   },
   "outputs": [
    {
     "data": {
      "text/html": [
       "<div>\n",
       "<style scoped>\n",
       "    .dataframe tbody tr th:only-of-type {\n",
       "        vertical-align: middle;\n",
       "    }\n",
       "\n",
       "    .dataframe tbody tr th {\n",
       "        vertical-align: top;\n",
       "    }\n",
       "\n",
       "    .dataframe thead th {\n",
       "        text-align: right;\n",
       "    }\n",
       "</style>\n",
       "<table border=\"1\" class=\"dataframe\">\n",
       "  <thead>\n",
       "    <tr style=\"text-align: right;\">\n",
       "      <th></th>\n",
       "      <th>CH_121</th>\n",
       "      <th>CH_122</th>\n",
       "      <th>CH_123</th>\n",
       "      <th>CH_124</th>\n",
       "      <th>CH_125</th>\n",
       "      <th>CH_126</th>\n",
       "      <th>CH_127</th>\n",
       "      <th>CH_128</th>\n",
       "      <th>CH_129</th>\n",
       "      <th>CH_130</th>\n",
       "      <th>...</th>\n",
       "      <th>CH_2492</th>\n",
       "      <th>CH_2493</th>\n",
       "      <th>CH_2494</th>\n",
       "      <th>CH_2495</th>\n",
       "      <th>CH_2496</th>\n",
       "      <th>CH_2497</th>\n",
       "      <th>CH_2498</th>\n",
       "      <th>CH_2499</th>\n",
       "      <th>CH_2500</th>\n",
       "      <th>Mineral Phase</th>\n",
       "    </tr>\n",
       "  </thead>\n",
       "  <tbody>\n",
       "    <tr>\n",
       "      <th>0</th>\n",
       "      <td>1</td>\n",
       "      <td>2</td>\n",
       "      <td>0</td>\n",
       "      <td>0</td>\n",
       "      <td>0</td>\n",
       "      <td>1</td>\n",
       "      <td>0</td>\n",
       "      <td>0</td>\n",
       "      <td>0</td>\n",
       "      <td>0</td>\n",
       "      <td>...</td>\n",
       "      <td>0</td>\n",
       "      <td>0</td>\n",
       "      <td>0</td>\n",
       "      <td>0</td>\n",
       "      <td>0</td>\n",
       "      <td>0</td>\n",
       "      <td>0</td>\n",
       "      <td>0</td>\n",
       "      <td>1</td>\n",
       "      <td>Amphibole</td>\n",
       "    </tr>\n",
       "    <tr>\n",
       "      <th>1</th>\n",
       "      <td>0</td>\n",
       "      <td>1</td>\n",
       "      <td>0</td>\n",
       "      <td>1</td>\n",
       "      <td>0</td>\n",
       "      <td>1</td>\n",
       "      <td>1</td>\n",
       "      <td>0</td>\n",
       "      <td>0</td>\n",
       "      <td>0</td>\n",
       "      <td>...</td>\n",
       "      <td>0</td>\n",
       "      <td>0</td>\n",
       "      <td>0</td>\n",
       "      <td>0</td>\n",
       "      <td>0</td>\n",
       "      <td>0</td>\n",
       "      <td>0</td>\n",
       "      <td>1</td>\n",
       "      <td>0</td>\n",
       "      <td>Amphibole</td>\n",
       "    </tr>\n",
       "    <tr>\n",
       "      <th>2</th>\n",
       "      <td>0</td>\n",
       "      <td>0</td>\n",
       "      <td>0</td>\n",
       "      <td>1</td>\n",
       "      <td>0</td>\n",
       "      <td>0</td>\n",
       "      <td>0</td>\n",
       "      <td>0</td>\n",
       "      <td>0</td>\n",
       "      <td>0</td>\n",
       "      <td>...</td>\n",
       "      <td>0</td>\n",
       "      <td>0</td>\n",
       "      <td>0</td>\n",
       "      <td>0</td>\n",
       "      <td>0</td>\n",
       "      <td>0</td>\n",
       "      <td>0</td>\n",
       "      <td>0</td>\n",
       "      <td>0</td>\n",
       "      <td>Amphibole</td>\n",
       "    </tr>\n",
       "    <tr>\n",
       "      <th>3</th>\n",
       "      <td>0</td>\n",
       "      <td>0</td>\n",
       "      <td>0</td>\n",
       "      <td>0</td>\n",
       "      <td>1</td>\n",
       "      <td>0</td>\n",
       "      <td>0</td>\n",
       "      <td>0</td>\n",
       "      <td>0</td>\n",
       "      <td>0</td>\n",
       "      <td>...</td>\n",
       "      <td>0</td>\n",
       "      <td>1</td>\n",
       "      <td>0</td>\n",
       "      <td>0</td>\n",
       "      <td>0</td>\n",
       "      <td>1</td>\n",
       "      <td>1</td>\n",
       "      <td>0</td>\n",
       "      <td>1</td>\n",
       "      <td>Amphibole</td>\n",
       "    </tr>\n",
       "    <tr>\n",
       "      <th>4</th>\n",
       "      <td>0</td>\n",
       "      <td>0</td>\n",
       "      <td>1</td>\n",
       "      <td>0</td>\n",
       "      <td>0</td>\n",
       "      <td>0</td>\n",
       "      <td>1</td>\n",
       "      <td>0</td>\n",
       "      <td>0</td>\n",
       "      <td>0</td>\n",
       "      <td>...</td>\n",
       "      <td>1</td>\n",
       "      <td>0</td>\n",
       "      <td>0</td>\n",
       "      <td>0</td>\n",
       "      <td>0</td>\n",
       "      <td>0</td>\n",
       "      <td>0</td>\n",
       "      <td>1</td>\n",
       "      <td>0</td>\n",
       "      <td>Amphibole</td>\n",
       "    </tr>\n",
       "  </tbody>\n",
       "</table>\n",
       "<p>5 rows × 2381 columns</p>\n",
       "</div>"
      ],
      "text/plain": [
       "   CH_121  CH_122  CH_123  CH_124  CH_125  CH_126  CH_127  CH_128  CH_129  \\\n",
       "0       1       2       0       0       0       1       0       0       0   \n",
       "1       0       1       0       1       0       1       1       0       0   \n",
       "2       0       0       0       1       0       0       0       0       0   \n",
       "3       0       0       0       0       1       0       0       0       0   \n",
       "4       0       0       1       0       0       0       1       0       0   \n",
       "\n",
       "   CH_130  ...  CH_2492  CH_2493  CH_2494  CH_2495  CH_2496  CH_2497  CH_2498  \\\n",
       "0       0  ...        0        0        0        0        0        0        0   \n",
       "1       0  ...        0        0        0        0        0        0        0   \n",
       "2       0  ...        0        0        0        0        0        0        0   \n",
       "3       0  ...        0        1        0        0        0        1        1   \n",
       "4       0  ...        1        0        0        0        0        0        0   \n",
       "\n",
       "   CH_2499  CH_2500  Mineral Phase  \n",
       "0        0        1      Amphibole  \n",
       "1        1        0      Amphibole  \n",
       "2        0        0      Amphibole  \n",
       "3        0        1      Amphibole  \n",
       "4        1        0      Amphibole  \n",
       "\n",
       "[5 rows x 2381 columns]"
      ]
     },
     "execution_count": 4,
     "metadata": {},
     "output_type": "execute_result"
    }
   ],
   "source": [
    "# Print the first few lines of the raw data\n",
    "pss.head()"
   ]
  },
  {
   "cell_type": "markdown",
   "id": "a375f6fd",
   "metadata": {
    "id": "707826c8"
   },
   "source": [
    "First three columns omitted. Channel columns outside the range [121, 2500] have been dropped (based on client advice). 'Sum' column also dropped."
   ]
  },
  {
   "cell_type": "code",
   "execution_count": 5,
   "id": "456caac4",
   "metadata": {
    "colab": {
     "base_uri": "https://localhost:8080/"
    },
    "executionInfo": {
     "elapsed": 17,
     "status": "ok",
     "timestamp": 1697458117532,
     "user": {
      "displayName": "Peter Millitz",
      "userId": "04527370084934815264"
     },
     "user_tz": -480
    },
    "id": "456caac4",
    "outputId": "fb54bf84-ffa3-4303-eb3d-1a9f1bf31116"
   },
   "outputs": [
    {
     "name": "stdout",
     "output_type": "stream",
     "text": [
      "<class 'pandas.core.frame.DataFrame'>\n",
      "RangeIndex: 130000 entries, 0 to 129999\n",
      "Columns: 2381 entries, CH_121 to Mineral Phase\n",
      "dtypes: int64(2380), object(1)\n",
      "memory usage: 2.3+ GB\n"
     ]
    }
   ],
   "source": [
    "# Display dataset structure\n",
    "pss.info()"
   ]
  },
  {
   "cell_type": "code",
   "execution_count": 6,
   "id": "2d79993a",
   "metadata": {
    "colab": {
     "base_uri": "https://localhost:8080/"
    },
    "executionInfo": {
     "elapsed": 13,
     "status": "ok",
     "timestamp": 1697458117532,
     "user": {
      "displayName": "Peter Millitz",
      "userId": "04527370084934815264"
     },
     "user_tz": -480
    },
    "id": "2d79993a",
    "outputId": "89045565-bf29-427a-9852-4cdc90f352b7"
   },
   "outputs": [
    {
     "data": {
      "text/plain": [
       "Mineral Phase\n",
       "Amphibole      13000\n",
       "Background     13000\n",
       "Epidote        13000\n",
       "Fe-Oxide       13000\n",
       "Fe-Silicate    13000\n",
       "Ilmenite       13000\n",
       "Monazite       13000\n",
       "Rutile         13000\n",
       "Titanite       13000\n",
       "Zircon         13000\n",
       "dtype: int64"
      ]
     },
     "execution_count": 6,
     "metadata": {},
     "output_type": "execute_result"
    }
   ],
   "source": [
    "# Check dataset balance - list all mineral labels and observations per mineral\n",
    "mineral_groups = pss.groupby('Mineral Phase').size()\n",
    "mineral_groups"
   ]
  },
  {
   "cell_type": "code",
   "execution_count": 7,
   "id": "68bc41a0",
   "metadata": {
    "colab": {
     "base_uri": "https://localhost:8080/",
     "height": 476
    },
    "executionInfo": {
     "elapsed": 39,
     "status": "ok",
     "timestamp": 1697458141422,
     "user": {
      "displayName": "Peter Millitz",
      "userId": "04527370084934815264"
     },
     "user_tz": -480
    },
    "id": "68bc41a0",
    "outputId": "552e4795-434b-4ffc-d9ae-af6e4524aef5"
   },
   "outputs": [
    {
     "data": {
      "image/png": "[encoded data removed]",
      "text/plain": [
       "<Figure size 640x480 with 1 Axes>"
      ]
     },
     "metadata": {},
     "output_type": "display_data"
    }
   ],
   "source": [
    "# Visual check\n",
    "\n",
    "# Sort the grouped data by count in ascending order (bottom up)\n",
    "mineral_groups = mineral_groups.sort_values(ascending=True)\n",
    "\n",
    "# Create a horizontal bar plot\n",
    "plt.barh(mineral_groups.index, mineral_groups.values)\n",
    "\n",
    "# Adding labels and title\n",
    "plt.xlabel('Count')\n",
    "plt.ylabel('Mineral Phase')\n",
    "plt.title('Bar plot depicting mineral frequency')\n",
    "\n",
    "# Show the plot\n",
    "plt.show()"
   ]
  },
  {
   "cell_type": "code",
   "execution_count": 8,
   "id": "ff8f51d1",
   "metadata": {
    "colab": {
     "base_uri": "https://localhost:8080/",
     "height": 350
    },
    "executionInfo": {
     "elapsed": 23900,
     "status": "ok",
     "timestamp": 1697458141422,
     "user": {
      "displayName": "Peter Millitz",
      "userId": "04527370084934815264"
     },
     "user_tz": -480
    },
    "id": "ff8f51d1",
    "outputId": "b6937c7d-e794-4863-ae23-c31fe88bc80d"
   },
   "outputs": [
    {
     "data": {
      "text/html": [
       "<div>\n",
       "<style scoped>\n",
       "    .dataframe tbody tr th:only-of-type {\n",
       "        vertical-align: middle;\n",
       "    }\n",
       "\n",
       "    .dataframe tbody tr th {\n",
       "        vertical-align: top;\n",
       "    }\n",
       "\n",
       "    .dataframe thead th {\n",
       "        text-align: right;\n",
       "    }\n",
       "</style>\n",
       "<table border=\"1\" class=\"dataframe\">\n",
       "  <thead>\n",
       "    <tr style=\"text-align: right;\">\n",
       "      <th></th>\n",
       "      <th>CH_121</th>\n",
       "      <th>CH_122</th>\n",
       "      <th>CH_123</th>\n",
       "      <th>CH_124</th>\n",
       "      <th>CH_125</th>\n",
       "      <th>CH_126</th>\n",
       "      <th>CH_127</th>\n",
       "      <th>CH_128</th>\n",
       "      <th>CH_129</th>\n",
       "      <th>CH_130</th>\n",
       "      <th>...</th>\n",
       "      <th>CH_2491</th>\n",
       "      <th>CH_2492</th>\n",
       "      <th>CH_2493</th>\n",
       "      <th>CH_2494</th>\n",
       "      <th>CH_2495</th>\n",
       "      <th>CH_2496</th>\n",
       "      <th>CH_2497</th>\n",
       "      <th>CH_2498</th>\n",
       "      <th>CH_2499</th>\n",
       "      <th>CH_2500</th>\n",
       "    </tr>\n",
       "  </thead>\n",
       "  <tbody>\n",
       "    <tr>\n",
       "      <th>count</th>\n",
       "      <td>130000.000000</td>\n",
       "      <td>130000.000000</td>\n",
       "      <td>130000.000000</td>\n",
       "      <td>130000.000000</td>\n",
       "      <td>130000.000000</td>\n",
       "      <td>130000.000000</td>\n",
       "      <td>130000.000000</td>\n",
       "      <td>130000.000000</td>\n",
       "      <td>130000.000000</td>\n",
       "      <td>130000.000000</td>\n",
       "      <td>...</td>\n",
       "      <td>130000.000000</td>\n",
       "      <td>130000.000000</td>\n",
       "      <td>130000.000000</td>\n",
       "      <td>130000.000000</td>\n",
       "      <td>130000.000000</td>\n",
       "      <td>130000.000000</td>\n",
       "      <td>130000.000000</td>\n",
       "      <td>130000.000000</td>\n",
       "      <td>130000.000000</td>\n",
       "      <td>130000.000000</td>\n",
       "    </tr>\n",
       "    <tr>\n",
       "      <th>mean</th>\n",
       "      <td>0.277846</td>\n",
       "      <td>0.287962</td>\n",
       "      <td>0.303515</td>\n",
       "      <td>0.312485</td>\n",
       "      <td>0.321208</td>\n",
       "      <td>0.327823</td>\n",
       "      <td>0.325446</td>\n",
       "      <td>0.312908</td>\n",
       "      <td>0.300085</td>\n",
       "      <td>0.290854</td>\n",
       "      <td>...</td>\n",
       "      <td>0.117915</td>\n",
       "      <td>0.117954</td>\n",
       "      <td>0.117100</td>\n",
       "      <td>0.115469</td>\n",
       "      <td>0.117331</td>\n",
       "      <td>0.115123</td>\n",
       "      <td>0.115985</td>\n",
       "      <td>0.114869</td>\n",
       "      <td>0.114069</td>\n",
       "      <td>0.114531</td>\n",
       "    </tr>\n",
       "    <tr>\n",
       "      <th>std</th>\n",
       "      <td>0.548105</td>\n",
       "      <td>0.566511</td>\n",
       "      <td>0.592709</td>\n",
       "      <td>0.609649</td>\n",
       "      <td>0.628446</td>\n",
       "      <td>0.646794</td>\n",
       "      <td>0.652507</td>\n",
       "      <td>0.637193</td>\n",
       "      <td>0.619198</td>\n",
       "      <td>0.597030</td>\n",
       "      <td>...</td>\n",
       "      <td>0.346206</td>\n",
       "      <td>0.345403</td>\n",
       "      <td>0.344277</td>\n",
       "      <td>0.341961</td>\n",
       "      <td>0.346027</td>\n",
       "      <td>0.342426</td>\n",
       "      <td>0.341955</td>\n",
       "      <td>0.341690</td>\n",
       "      <td>0.340470</td>\n",
       "      <td>0.339953</td>\n",
       "    </tr>\n",
       "    <tr>\n",
       "      <th>min</th>\n",
       "      <td>0.000000</td>\n",
       "      <td>0.000000</td>\n",
       "      <td>0.000000</td>\n",
       "      <td>0.000000</td>\n",
       "      <td>0.000000</td>\n",
       "      <td>0.000000</td>\n",
       "      <td>0.000000</td>\n",
       "      <td>0.000000</td>\n",
       "      <td>0.000000</td>\n",
       "      <td>0.000000</td>\n",
       "      <td>...</td>\n",
       "      <td>0.000000</td>\n",
       "      <td>0.000000</td>\n",
       "      <td>0.000000</td>\n",
       "      <td>0.000000</td>\n",
       "      <td>0.000000</td>\n",
       "      <td>0.000000</td>\n",
       "      <td>0.000000</td>\n",
       "      <td>0.000000</td>\n",
       "      <td>0.000000</td>\n",
       "      <td>0.000000</td>\n",
       "    </tr>\n",
       "    <tr>\n",
       "      <th>25%</th>\n",
       "      <td>0.000000</td>\n",
       "      <td>0.000000</td>\n",
       "      <td>0.000000</td>\n",
       "      <td>0.000000</td>\n",
       "      <td>0.000000</td>\n",
       "      <td>0.000000</td>\n",
       "      <td>0.000000</td>\n",
       "      <td>0.000000</td>\n",
       "      <td>0.000000</td>\n",
       "      <td>0.000000</td>\n",
       "      <td>...</td>\n",
       "      <td>0.000000</td>\n",
       "      <td>0.000000</td>\n",
       "      <td>0.000000</td>\n",
       "      <td>0.000000</td>\n",
       "      <td>0.000000</td>\n",
       "      <td>0.000000</td>\n",
       "      <td>0.000000</td>\n",
       "      <td>0.000000</td>\n",
       "      <td>0.000000</td>\n",
       "      <td>0.000000</td>\n",
       "    </tr>\n",
       "    <tr>\n",
       "      <th>50%</th>\n",
       "      <td>0.000000</td>\n",
       "      <td>0.000000</td>\n",
       "      <td>0.000000</td>\n",
       "      <td>0.000000</td>\n",
       "      <td>0.000000</td>\n",
       "      <td>0.000000</td>\n",
       "      <td>0.000000</td>\n",
       "      <td>0.000000</td>\n",
       "      <td>0.000000</td>\n",
       "      <td>0.000000</td>\n",
       "      <td>...</td>\n",
       "      <td>0.000000</td>\n",
       "      <td>0.000000</td>\n",
       "      <td>0.000000</td>\n",
       "      <td>0.000000</td>\n",
       "      <td>0.000000</td>\n",
       "      <td>0.000000</td>\n",
       "      <td>0.000000</td>\n",
       "      <td>0.000000</td>\n",
       "      <td>0.000000</td>\n",
       "      <td>0.000000</td>\n",
       "    </tr>\n",
       "    <tr>\n",
       "      <th>75%</th>\n",
       "      <td>0.000000</td>\n",
       "      <td>0.000000</td>\n",
       "      <td>0.000000</td>\n",
       "      <td>1.000000</td>\n",
       "      <td>1.000000</td>\n",
       "      <td>1.000000</td>\n",
       "      <td>1.000000</td>\n",
       "      <td>0.000000</td>\n",
       "      <td>0.000000</td>\n",
       "      <td>0.000000</td>\n",
       "      <td>...</td>\n",
       "      <td>0.000000</td>\n",
       "      <td>0.000000</td>\n",
       "      <td>0.000000</td>\n",
       "      <td>0.000000</td>\n",
       "      <td>0.000000</td>\n",
       "      <td>0.000000</td>\n",
       "      <td>0.000000</td>\n",
       "      <td>0.000000</td>\n",
       "      <td>0.000000</td>\n",
       "      <td>0.000000</td>\n",
       "    </tr>\n",
       "    <tr>\n",
       "      <th>max</th>\n",
       "      <td>6.000000</td>\n",
       "      <td>7.000000</td>\n",
       "      <td>8.000000</td>\n",
       "      <td>7.000000</td>\n",
       "      <td>7.000000</td>\n",
       "      <td>8.000000</td>\n",
       "      <td>8.000000</td>\n",
       "      <td>8.000000</td>\n",
       "      <td>8.000000</td>\n",
       "      <td>8.000000</td>\n",
       "      <td>...</td>\n",
       "      <td>4.000000</td>\n",
       "      <td>4.000000</td>\n",
       "      <td>4.000000</td>\n",
       "      <td>4.000000</td>\n",
       "      <td>3.000000</td>\n",
       "      <td>4.000000</td>\n",
       "      <td>4.000000</td>\n",
       "      <td>4.000000</td>\n",
       "      <td>3.000000</td>\n",
       "      <td>4.000000</td>\n",
       "    </tr>\n",
       "  </tbody>\n",
       "</table>\n",
       "<p>8 rows × 2380 columns</p>\n",
       "</div>"
      ],
      "text/plain": [
       "              CH_121         CH_122         CH_123         CH_124  \\\n",
       "count  130000.000000  130000.000000  130000.000000  130000.000000   \n",
       "mean        0.277846       0.287962       0.303515       0.312485   \n",
       "std         0.548105       0.566511       0.592709       0.609649   \n",
       "min         0.000000       0.000000       0.000000       0.000000   \n",
       "25%         0.000000       0.000000       0.000000       0.000000   \n",
       "50%         0.000000       0.000000       0.000000       0.000000   \n",
       "75%         0.000000       0.000000       0.000000       1.000000   \n",
       "max         6.000000       7.000000       8.000000       7.000000   \n",
       "\n",
       "              CH_125         CH_126         CH_127         CH_128  \\\n",
       "count  130000.000000  130000.000000  130000.000000  130000.000000   \n",
       "mean        0.321208       0.327823       0.325446       0.312908   \n",
       "std         0.628446       0.646794       0.652507       0.637193   \n",
       "min         0.000000       0.000000       0.000000       0.000000   \n",
       "25%         0.000000       0.000000       0.000000       0.000000   \n",
       "50%         0.000000       0.000000       0.000000       0.000000   \n",
       "75%         1.000000       1.000000       1.000000       0.000000   \n",
       "max         7.000000       8.000000       8.000000       8.000000   \n",
       "\n",
       "              CH_129         CH_130  ...        CH_2491        CH_2492  \\\n",
       "count  130000.000000  130000.000000  ...  130000.000000  130000.000000   \n",
       "mean        0.300085       0.290854  ...       0.117915       0.117954   \n",
       "std         0.619198       0.597030  ...       0.346206       0.345403   \n",
       "min         0.000000       0.000000  ...       0.000000       0.000000   \n",
       "25%         0.000000       0.000000  ...       0.000000       0.000000   \n",
       "50%         0.000000       0.000000  ...       0.000000       0.000000   \n",
       "75%         0.000000       0.000000  ...       0.000000       0.000000   \n",
       "max         8.000000       8.000000  ...       4.000000       4.000000   \n",
       "\n",
       "             CH_2493        CH_2494        CH_2495        CH_2496  \\\n",
       "count  130000.000000  130000.000000  130000.000000  130000.000000   \n",
       "mean        0.117100       0.115469       0.117331       0.115123   \n",
       "std         0.344277       0.341961       0.346027       0.342426   \n",
       "min         0.000000       0.000000       0.000000       0.000000   \n",
       "25%         0.000000       0.000000       0.000000       0.000000   \n",
       "50%         0.000000       0.000000       0.000000       0.000000   \n",
       "75%         0.000000       0.000000       0.000000       0.000000   \n",
       "max         4.000000       4.000000       3.000000       4.000000   \n",
       "\n",
       "             CH_2497        CH_2498        CH_2499        CH_2500  \n",
       "count  130000.000000  130000.000000  130000.000000  130000.000000  \n",
       "mean        0.115985       0.114869       0.114069       0.114531  \n",
       "std         0.341955       0.341690       0.340470       0.339953  \n",
       "min         0.000000       0.000000       0.000000       0.000000  \n",
       "25%         0.000000       0.000000       0.000000       0.000000  \n",
       "50%         0.000000       0.000000       0.000000       0.000000  \n",
       "75%         0.000000       0.000000       0.000000       0.000000  \n",
       "max         4.000000       4.000000       3.000000       4.000000  \n",
       "\n",
       "[8 rows x 2380 columns]"
      ]
     },
     "execution_count": 8,
     "metadata": {},
     "output_type": "execute_result"
    }
   ],
   "source": [
    "# Display summary statistics on channels 121-2500\n",
    "pss.describe()"
   ]
  },
  {
   "cell_type": "markdown",
   "id": "a641a618",
   "metadata": {},
   "source": [
    "### 3.3 Prepare the training and test sets"
   ]
  },
  {
   "cell_type": "markdown",
   "id": "7340ebcd",
   "metadata": {},
   "source": [
    "#### 3.3.1 Create the training and tes set"
   ]
  },
  {
   "cell_type": "code",
   "execution_count": 9,
   "id": "cc192379",
   "metadata": {
    "executionInfo": {
     "elapsed": 1700,
     "status": "ok",
     "timestamp": 1697458143086,
     "user": {
      "displayName": "Peter Millitz",
      "userId": "04527370084934815264"
     },
     "user_tz": -480
    },
    "id": "cc192379"
   },
   "outputs": [],
   "source": [
    "# Rename dataframe to X\n",
    "X = pss\n",
    "# Breakout the labels and store in y (target)\n",
    "y = X['Mineral Phase'].copy()\n",
    "# Drop labels column from X\n",
    "X.drop(columns=['Mineral Phase'], inplace=True)"
   ]
  },
  {
   "cell_type": "code",
   "execution_count": 10,
   "id": "54fe07d7",
   "metadata": {
    "executionInfo": {
     "elapsed": 6121,
     "status": "ok",
     "timestamp": 1697458149194,
     "user": {
      "displayName": "Peter Millitz",
      "userId": "04527370084934815264"
     },
     "user_tz": -480
    },
    "id": "54fe07d7"
   },
   "outputs": [],
   "source": [
    "# Split the data into training and test sets with ratio 80:20\n",
    "X_train, X_test, y_train, y_test = train_test_split(X, y, test_size=0.20, random_state=123)"
   ]
  },
  {
   "cell_type": "markdown",
   "id": "a84bb0f1",
   "metadata": {
    "id": "a84bb0f1"
   },
   "source": [
    "#### 3.3.2 Data Standardisation:"
   ]
  },
  {
   "cell_type": "markdown",
   "id": "c7cb2913",
   "metadata": {
    "id": "c7cb2913"
   },
   "source": [
    "Since the intention is to apply some form of regularisation with the Logistic Regression classifier, it is important to standardise the predictors in order to make any applied penalty meaningful. The standardisation here involves centering and scaling each predictor by subtracting it's mean and dividing by it's standard deviation."
   ]
  },
  {
   "cell_type": "code",
   "execution_count": 11,
   "id": "70231950",
   "metadata": {
    "colab": {
     "base_uri": "https://localhost:8080/"
    },
    "executionInfo": {
     "elapsed": 10939,
     "status": "ok",
     "timestamp": 1697458160092,
     "user": {
      "displayName": "Peter Millitz",
      "userId": "04527370084934815264"
     },
     "user_tz": -480
    },
    "id": "70231950",
    "outputId": "ec6a6159-df96-47db-c50a-f1478d7154ad"
   },
   "outputs": [
    {
     "name": "stdout",
     "output_type": "stream",
     "text": [
      "Peak to Peak range by column in Standardized X_train: [10.9832803  12.33947936 13.46875396 ...  8.78153174  8.83133629\n",
      " 11.72542966]\n",
      "Peak to Peak range by column in Standardized X_test:  [ 9.15273358  8.81391383 10.10156547 ... 11.70870899  8.83133629\n",
      "  8.79407225]\n"
     ]
    }
   ],
   "source": [
    "# Standardize the training set predictors and apply the transform to both the training & test sets\n",
    "std_scaler = StandardScaler()\n",
    "X_train = std_scaler.fit_transform(X_train)\n",
    "X_test  = std_scaler.transform(X_test)\n",
    "print(f\"Peak to Peak range by column in Standardized X_train: {np.ptp(X_train,axis=0)}\")\n",
    "print(f\"Peak to Peak range by column in Standardized X_test:  {np.ptp(X_test, axis=0)}\")"
   ]
  },
  {
   "cell_type": "code",
   "execution_count": 12,
   "id": "73ff751f",
   "metadata": {
    "colab": {
     "base_uri": "https://localhost:8080/"
    },
    "executionInfo": {
     "elapsed": 491,
     "status": "ok",
     "timestamp": 1697458372842,
     "user": {
      "displayName": "Peter Millitz",
      "userId": "04527370084934815264"
     },
     "user_tz": -480
    },
    "id": "73ff751f",
    "outputId": "69df7491-b9dc-4f87-fb3d-b681debe811c"
   },
   "outputs": [
    {
     "name": "stdout",
     "output_type": "stream",
     "text": [
      "The shape of X_train is: (104000, 2380)\n",
      "The shape of X_test is: (26000, 2380)\n",
      "The shape of y_train is:  (104000,)\n",
      "The shape of y_test is:  (26000,)\n",
      "Number of training examples: 104000\n",
      "Number of test examples: 26000\n"
     ]
    }
   ],
   "source": [
    "# Check the shape of all input arrays\n",
    "print ('The shape of X_train is:', X_train.shape)\n",
    "print ('The shape of X_test is:', X_test.shape)\n",
    "print ('The shape of y_train is: ', y_train.shape)\n",
    "print ('The shape of y_test is: ', y_test.shape)\n",
    "print ('Number of training examples:', len(X_train))\n",
    "print ('Number of test examples:', len(X_test))"
   ]
  },
  {
   "cell_type": "markdown",
   "id": "7c6c9b0f",
   "metadata": {
    "id": "7c6c9b0f"
   },
   "source": [
    "### 3.4 Modelling"
   ]
  },
  {
   "cell_type": "markdown",
   "id": "d69a9727",
   "metadata": {
    "id": "d69a9727"
   },
   "source": [
    "Regularised Logistic Regression with Stochastic Gradient Descent (SGD) learning"
   ]
  },
  {
   "cell_type": "markdown",
   "id": "f8034197",
   "metadata": {
    "id": "f8034197"
   },
   "source": [
    "Logistic Regression (also known as Logit Regression) is probabalistic machine learning technique typically used for binary classification problems but can also be adapted for use in multi-class cases. The algorithm estimates the probability of an input belonging to a particular class. This implementation incorporates regularisation which is a penalty added to the loss function that shrinks model parameters towards zero using the absolute L1 norm. Stochastic gradient descent is used as the learning algorithm which also permits mini-batch (online/out-of-core) learning. This implementation can work with data represented as dense or sparse arrays of floating point values for the features."
   ]
  },
  {
   "cell_type": "markdown",
   "id": "b4a114db",
   "metadata": {
    "id": "b4a114db"
   },
   "source": [
    "#### 3.4.1 Perform a hyperparameter grid search to select the best values for 'alpha' and 'max_iter'"
   ]
  },
  {
   "cell_type": "code",
   "execution_count": 13,
   "id": "197bce26",
   "metadata": {
    "colab": {
     "base_uri": "https://localhost:8080/"
    },
    "id": "197bce26",
    "outputId": "99b52b7a-9a83-4678-881b-69cd23653d82"
   },
   "outputs": [
    {
     "name": "stdout",
     "output_type": "stream",
     "text": [
      "Processing time (mins): 0.0;\n"
     ]
    }
   ],
   "source": [
    "# Perform a SGDClassifier hyperparameter grid search\n",
    "# using 3-fold cross-validation\n",
    "\n",
    "# definine hyperparameter ranges\n",
    "#param_grid = {'alpha': [0.001, 0.01, 1, 10], 'max_iter': [1000]}\n",
    "param_grid = {'alpha': [0.01], 'max_iter': [100, 500, 1000]}\n",
    "\n",
    "\n",
    "t0 = time.time()\n",
    "# Perform a grid search using param_grid and cv=3\n",
    "grid_clf = SGDClassifier()\n",
    "\n",
    "grid = GridSearchCV(grid_clf, param_grid, cv=3, n_jobs=-1, verbose=3)\n",
    "\n",
    "# Fit the Grid SearchCV model to the training data\n",
    "t0 = time.time() # start time\n",
    "#grid.fit(X_train, y_train) # uncomment this line to enable grid search\n",
    "t1 = time.time() # end time\n",
    "print(\"Processing time (mins): {0:.3};\".format((t1-t0)/60))"
   ]
  },
  {
   "cell_type": "code",
   "execution_count": 14,
   "id": "ce3d1de8",
   "metadata": {
    "executionInfo": {
     "elapsed": 4451,
     "status": "aborted",
     "timestamp": 1697457974037,
     "user": {
      "displayName": "Peter Millitz",
      "userId": "04527370084934815264"
     },
     "user_tz": -480
    },
    "id": "ce3d1de8"
   },
   "outputs": [],
   "source": [
    "#grid.best_params_ # uncomment this line if the hyperparameter grid search was enabled"
   ]
  },
  {
   "cell_type": "markdown",
   "id": "6b821485",
   "metadata": {
    "id": "6b821485"
   },
   "source": [
    "#### 3.4.2 Build the logistic regression classifier using the tuned hyperparameters"
   ]
  },
  {
   "cell_type": "code",
   "execution_count": 15,
   "id": "bac8d875",
   "metadata": {
    "executionInfo": {
     "elapsed": 4449,
     "status": "aborted",
     "timestamp": 1697457974037,
     "user": {
      "displayName": "Peter Millitz",
      "userId": "04527370084934815264"
     },
     "user_tz": -480
    },
    "id": "bac8d875"
   },
   "outputs": [],
   "source": [
    "# Instantiate the SGDClassifer class\n",
    "log_reg = SGDClassifier(alpha=0.01, class_weight=None, loss='log_loss', max_iter=1000,\n",
    "                        n_jobs=-1, penalty='l1', random_state=42, verbose=0)"
   ]
  },
  {
   "cell_type": "code",
   "execution_count": 16,
   "id": "5d35778e",
   "metadata": {
    "executionInfo": {
     "elapsed": 4448,
     "status": "aborted",
     "timestamp": 1697457974038,
     "user": {
      "displayName": "Peter Millitz",
      "userId": "04527370084934815264"
     },
     "user_tz": -480
    },
    "id": "5d35778e"
   },
   "outputs": [
    {
     "name": "stdout",
     "output_type": "stream",
     "text": [
      "Processing time (mins): 42.3;\n"
     ]
    }
   ],
   "source": [
    "# Train the classifier (42min/10 minerals)\n",
    "t0 = time.time() # start time\n",
    "log_reg.fit(X_train, y_train) # fit the model to the training data\n",
    "t1 = time.time() # end time\n",
    "print(\"Processing time (mins): {0:.3};\".format((t1-t0)/60))"
   ]
  },
  {
   "cell_type": "markdown",
   "id": "9FjEFcsAgR9c",
   "metadata": {
    "id": "9FjEFcsAgR9c"
   },
   "source": [
    "#### 3.4.3 Examine Model attributes and outputs"
   ]
  },
  {
   "cell_type": "markdown",
   "id": "9dWn-PiXhWaY",
   "metadata": {
    "id": "9dWn-PiXhWaY"
   },
   "source": [
    "##### Training iterations:"
   ]
  },
  {
   "cell_type": "code",
   "execution_count": 17,
   "id": "9ed428e3",
   "metadata": {
    "executionInfo": {
     "elapsed": 14,
     "status": "aborted",
     "timestamp": 1697457974597,
     "user": {
      "displayName": "Peter Millitz",
      "userId": "04527370084934815264"
     },
     "user_tz": -480
    },
    "id": "9ed428e3"
   },
   "outputs": [
    {
     "data": {
      "text/plain": [
       "414"
      ]
     },
     "execution_count": 17,
     "metadata": {},
     "output_type": "execute_result"
    }
   ],
   "source": [
    "# Number of training iterations\n",
    "log_reg.n_iter_"
   ]
  },
  {
   "cell_type": "markdown",
   "id": "3OQ3wwQ0hbvU",
   "metadata": {
    "id": "3OQ3wwQ0hbvU"
   },
   "source": [
    "##### Class categories:"
   ]
  },
  {
   "cell_type": "code",
   "execution_count": 51,
   "id": "71038696",
   "metadata": {
    "executionInfo": {
     "elapsed": 13,
     "status": "aborted",
     "timestamp": 1697457974597,
     "user": {
      "displayName": "Peter Millitz",
      "userId": "04527370084934815264"
     },
     "user_tz": -480
    },
    "id": "71038696"
   },
   "outputs": [],
   "source": [
    "# Export mineral class list\n",
    "np.savetxt(\"G:/Modelling/OUTPUTS/classes.csv\", log_reg.classes_, fmt=\"%s\", delimiter=\",\")"
   ]
  },
  {
   "cell_type": "code",
   "execution_count": 52,
   "id": "83b475ff",
   "metadata": {},
   "outputs": [
    {
     "data": {
      "text/plain": [
       "array(['Amphibole', 'Background', 'Epidote', 'Fe-Oxide', 'Fe-Silicate',\n",
       "       'Ilmenite', 'Monazite', 'Rutile', 'Titanite', 'Zircon'],\n",
       "      dtype='<U11')"
      ]
     },
     "execution_count": 52,
     "metadata": {},
     "output_type": "execute_result"
    }
   ],
   "source": [
    "log_reg.classes_"
   ]
  },
  {
   "cell_type": "markdown",
   "id": "XO5XuoMThFpY",
   "metadata": {
    "id": "XO5XuoMThFpY"
   },
   "source": [
    "##### Model weights:"
   ]
  },
  {
   "cell_type": "code",
   "execution_count": 19,
   "id": "fbec4097",
   "metadata": {
    "executionInfo": {
     "elapsed": 14,
     "status": "aborted",
     "timestamp": 1697457974598,
     "user": {
      "displayName": "Peter Millitz",
      "userId": "04527370084934815264"
     },
     "user_tz": -480
    },
    "id": "fbec4097"
   },
   "outputs": [],
   "source": [
    "# Export the model coefficents (weights) for each class label\n",
    "model_weights = log_reg.coef_\n",
    "np.savetxt(\"G:/Modelling/OUTPUTS/weights.csv\", model_weights, delimiter=\",\")"
   ]
  },
  {
   "cell_type": "code",
   "execution_count": 20,
   "id": "a8f7e133",
   "metadata": {
    "executionInfo": {
     "elapsed": 13,
     "status": "aborted",
     "timestamp": 1697457974598,
     "user": {
      "displayName": "Peter Millitz",
      "userId": "04527370084934815264"
     },
     "user_tz": -480
    },
    "id": "a8f7e133"
   },
   "outputs": [],
   "source": [
    "# Convert model_weights to a data frame\n",
    "\n",
    "df = pd.DataFrame(model_weights)\n",
    "# insert row names\n",
    "df.index=['Amphibole', 'Background', 'Epidote', 'Fe-Oxide', 'Fe-Silicate',\n",
    "          'Ilmenite', 'Monazite', 'Rutile', 'Titanite', 'Zircon']\n",
    "# insert column names\n",
    "#new_column_names = [\"CH_\" + str(i) for i in range(121, 2502)]\n",
    "new_column_names = [\"CH_\" + str(i) for i in range(121, 2501)]\n",
    "df.columns = new_column_names\n",
    "# drop the last column (which is actually 'Sum')\n",
    "#df.drop(columns=['CH_2501'], inplace=True)"
   ]
  },
  {
   "cell_type": "code",
   "execution_count": 21,
   "id": "f3d3b7a2",
   "metadata": {
    "executionInfo": {
     "elapsed": 13,
     "status": "aborted",
     "timestamp": 1697457974598,
     "user": {
      "displayName": "Peter Millitz",
      "userId": "04527370084934815264"
     },
     "user_tz": -480
    },
    "id": "f3d3b7a2"
   },
   "outputs": [
    {
     "name": "stdout",
     "output_type": "stream",
     "text": [
      "Figure 1. 10-mineral model weights\n"
     ]
    },
    {
     "data": {
      "image/png": "[encoded data removed]",
      "text/plain": [
       "<Figure size 1000x400 with 1 Axes>"
      ]
     },
     "metadata": {},
     "output_type": "display_data"
    }
   ],
   "source": [
    "# Display the model weight contributions for each mineral above an arbitrary threshold (default=1)\n",
    "\n",
    "# Create a binary dataframe where 1 represents values >= |1|\n",
    "df_binary = (np.abs(df) >= 1).astype(int)\n",
    "# Get the row names as strings\n",
    "row_names = df.index.tolist()\n",
    "# Create a list of (row_name, col_index) tuples for each value >= |1|\n",
    "indices = [(row_names[i], j) for i in range(len(df)) for j in range(len(df.columns)) if df_binary.iloc[i, j] == 1]\n",
    "# Extract row names and re-scale column indices\n",
    "row_indices, col_indices = zip(*indices)\n",
    "col_indices = [col + 120 for col in col_indices]\n",
    "\n",
    "print(\"Figure 1. 10-mineral model weights\")\n",
    "# Create a dot plot of model weights for each mineral phase (channels weights only)\n",
    "fig, ax = plt.subplots(figsize=(10, 4))\n",
    "ax.set_facecolor('lightgray')\n",
    "plt.scatter(col_indices, row_indices, marker='o', s=15, c='blue', alpha=0.3)\n",
    "plt.title(\"Model weights for each mineral phase (wt >= abs(1))\")\n",
    "plt.xlabel(\"Channel Number\")\n",
    "plt.ylabel(\"Mineral Phase\")\n",
    "plt.grid(color='darkgray', linestyle='--')\n",
    "plt.savefig(\"G:/Modelling/IMAGES/weights.png\")\n",
    "plt.show()"
   ]
  },
  {
   "cell_type": "markdown",
   "id": "09b66d92",
   "metadata": {
    "id": "09b66d92"
   },
   "source": [
    "#### 3.4.4 Evaluate the model"
   ]
  },
  {
   "cell_type": "markdown",
   "id": "-3Y1QOYuCihu",
   "metadata": {
    "id": "-3Y1QOYuCihu"
   },
   "source": [
    "##### 3.4.4.1 Training data"
   ]
  },
  {
   "cell_type": "markdown",
   "id": "QeMA6py3lEMo",
   "metadata": {
    "id": "QeMA6py3lEMo"
   },
   "source": [
    "##### Generate and export class predictions:"
   ]
  },
  {
   "cell_type": "code",
   "execution_count": 22,
   "id": "a28d9a69",
   "metadata": {
    "executionInfo": {
     "elapsed": 13,
     "status": "aborted",
     "timestamp": 1697457974598,
     "user": {
      "displayName": "Peter Millitz",
      "userId": "04527370084934815264"
     },
     "user_tz": -480
    },
    "id": "a28d9a69",
    "scrolled": false
   },
   "outputs": [],
   "source": [
    "# Generate predictions on training using 3-fold cv (30 mins/10 minerals; 57mins/23 minerals)\n",
    "# Note: if cv=int, estimator is a classifier and y is binary or multi-class, StratifiedKFold is used.\n",
    "log_reg_pred = cross_val_predict(log_reg, X_train, y_train, cv=3, n_jobs=-1)"
   ]
  },
  {
   "cell_type": "code",
   "execution_count": 23,
   "id": "GBeAhXLWMYsU",
   "metadata": {
    "executionInfo": {
     "elapsed": 14,
     "status": "aborted",
     "timestamp": 1697457974599,
     "user": {
      "displayName": "Peter Millitz",
      "userId": "04527370084934815264"
     },
     "user_tz": -480
    },
    "id": "GBeAhXLWMYsU"
   },
   "outputs": [],
   "source": [
    "# Export predictions on the training set\n",
    "np.savetxt(\"G:/Modelling/OUTPUTS/preds_train.csv\", log_reg_pred, fmt=\"%s\", delimiter=\",\")"
   ]
  },
  {
   "cell_type": "code",
   "execution_count": 24,
   "id": "d44fa5d0",
   "metadata": {},
   "outputs": [
    {
     "data": {
      "text/plain": [
       "array(['Zircon', 'Zircon', 'Monazite', ..., 'Amphibole', 'Background',\n",
       "       'Zircon'], dtype='<U11')"
      ]
     },
     "execution_count": 24,
     "metadata": {},
     "output_type": "execute_result"
    }
   ],
   "source": [
    "log_reg_pred"
   ]
  },
  {
   "cell_type": "markdown",
   "id": "c590SeoClYg9",
   "metadata": {
    "id": "c590SeoClYg9"
   },
   "source": [
    "##### Confusion Matrix and prediction metrics:"
   ]
  },
  {
   "cell_type": "code",
   "execution_count": 25,
   "id": "d8298d01",
   "metadata": {
    "executionInfo": {
     "elapsed": 13,
     "status": "aborted",
     "timestamp": 1697457974599,
     "user": {
      "displayName": "Peter Millitz",
      "userId": "04527370084934815264"
     },
     "user_tz": -480
    },
    "id": "d8298d01",
    "scrolled": false
   },
   "outputs": [
    {
     "name": "stdout",
     "output_type": "stream",
     "text": [
      "log_reg model on training\n"
     ]
    },
    {
     "data": {
      "image/png": "[encoded data removed]",
      "text/plain": [
       "<Figure size 800x800 with 2 Axes>"
      ]
     },
     "metadata": {},
     "output_type": "display_data"
    }
   ],
   "source": [
    "# Generate a confusion matrix\n",
    "cm_log_reg_train = confusion_matrix(y_train, log_reg_pred)\n",
    "print(\"log_reg model on training\")\n",
    "disp = ConfusionMatrixDisplay(confusion_matrix=cm_log_reg_train,\n",
    "                              display_labels=['Amphibole', 'Background', 'Epidote', 'Fe-Oxide', 'Fe-Silicate',\n",
    "                                              'Ilmenite', 'Monazite', 'Rutile', 'Titanite', 'Zircon'])\n",
    "# Plot the confusion matrix\n",
    "disp.plot(colorbar=True)\n",
    "fig = disp.ax_.get_figure()\n",
    "fig.set_figwidth(8)\n",
    "fig.set_figheight(8)\n",
    "# Set the rotation angle for x-labels\n",
    "plt.xticks(rotation=45, fontsize=8)\n",
    "plt.yticks(fontsize=8)\n",
    "plt.suptitle(\"Confusion Matrix\", fontsize=14)\n",
    "plt.savefig(\"G:/Modelling/IMAGES/cm_train.png\")\n",
    "plt.show()"
   ]
  },
  {
   "cell_type": "code",
   "execution_count": 26,
   "id": "e6274b39",
   "metadata": {
    "executionInfo": {
     "elapsed": 13,
     "status": "aborted",
     "timestamp": 1697457974599,
     "user": {
      "displayName": "Peter Millitz",
      "userId": "04527370084934815264"
     },
     "user_tz": -480
    },
    "id": "e6274b39",
    "scrolled": true
   },
   "outputs": [
    {
     "name": "stdout",
     "output_type": "stream",
     "text": [
      "Prediction results on training data:\n",
      "\n",
      "              precision    recall  f1-score   support\n",
      "\n",
      "   Amphibole       0.64      0.54      0.58     10430\n",
      "  Background       0.76      0.94      0.84     10356\n",
      "     Epidote       0.84      0.78      0.81     10338\n",
      "    Fe-Oxide       0.85      0.74      0.80     10437\n",
      " Fe-Silicate       0.85      0.83      0.84     10419\n",
      "    Ilmenite       0.91      0.78      0.84     10434\n",
      "    Monazite       0.91      0.98      0.95     10411\n",
      "      Rutile       0.95      0.86      0.90     10366\n",
      "    Titanite       0.92      0.74      0.82     10439\n",
      "      Zircon       0.65      0.99      0.79     10370\n",
      "\n",
      "    accuracy                           0.82    104000\n",
      "   macro avg       0.83      0.82      0.82    104000\n",
      "weighted avg       0.83      0.82      0.82    104000\n",
      "\n"
     ]
    }
   ],
   "source": [
    "# Report prediction results on training data\n",
    "print(\"Prediction results on training data:\\n\")\n",
    "print(classification_report(y_train, log_reg_pred, digits=2))"
   ]
  },
  {
   "cell_type": "markdown",
   "id": "nlGmR_KnkXbO",
   "metadata": {
    "id": "nlGmR_KnkXbO"
   },
   "source": [
    "##### Generate and export  prediction probabilities"
   ]
  },
  {
   "cell_type": "code",
   "execution_count": 27,
   "id": "a00b1856",
   "metadata": {
    "executionInfo": {
     "elapsed": 13,
     "status": "aborted",
     "timestamp": 1697457974599,
     "user": {
      "displayName": "Peter Millitz",
      "userId": "04527370084934815264"
     },
     "user_tz": -480
    },
    "id": "a00b1856"
   },
   "outputs": [],
   "source": [
    "# Generate prediction probabilities on training using 3-fold cv (~90 mins/10 minerals! (local); 58 mins/23 minerals)\n",
    "# Note: for cv=int and estimator is a classifier and y is binary or multi-class, StratifiedKFold is used.\n",
    "log_reg_proba = cross_val_predict(log_reg, X_train, y_train, cv=3, n_jobs=-1, method='predict_proba')"
   ]
  },
  {
   "cell_type": "code",
   "execution_count": 29,
   "id": "6be4f8cc",
   "metadata": {},
   "outputs": [],
   "source": [
    " # Export the probabilities array\n",
    "np.savetxt(\"G:/Modelling/OUTPUTS/probs_train.csv\", log_reg_proba, delimiter=\",\")"
   ]
  },
  {
   "cell_type": "markdown",
   "id": "ea724d08",
   "metadata": {},
   "source": [
    "##### Display the average prediction probabilities for each mineral"
   ]
  },
  {
   "cell_type": "code",
   "execution_count": 30,
   "id": "A79ruc-UZiDP",
   "metadata": {
    "executionInfo": {
     "elapsed": 14,
     "status": "aborted",
     "timestamp": 1697457974600,
     "user": {
      "displayName": "Peter Millitz",
      "userId": "04527370084934815264"
     },
     "user_tz": -480
    },
    "id": "A79ruc-UZiDP"
   },
   "outputs": [],
   "source": [
    "# Convert the output probability array to a dataframe\n",
    "probadf = pd.DataFrame(log_reg_proba, columns=list(log_reg.classes_))"
   ]
  },
  {
   "cell_type": "code",
   "execution_count": 31,
   "id": "tVi_2fkCZqJZ",
   "metadata": {
    "executionInfo": {
     "elapsed": 14,
     "status": "aborted",
     "timestamp": 1697457974600,
     "user": {
      "displayName": "Peter Millitz",
      "userId": "04527370084934815264"
     },
     "user_tz": -480
    },
    "id": "tVi_2fkCZqJZ"
   },
   "outputs": [],
   "source": [
    "# Function to find the column with the maximum value in a row\n",
    "def find_max_column(row):\n",
    "    max_col = row.idxmax()\n",
    "    return pd.Series([max_col, row[max_col]], index=['Mineral Phase', 'Probability'])"
   ]
  },
  {
   "cell_type": "code",
   "execution_count": 32,
   "id": "zQZBdNKHZyZq",
   "metadata": {
    "executionInfo": {
     "elapsed": 14,
     "status": "aborted",
     "timestamp": 1697457974600,
     "user": {
      "displayName": "Peter Millitz",
      "userId": "04527370084934815264"
     },
     "user_tz": -480
    },
    "id": "zQZBdNKHZyZq"
   },
   "outputs": [
    {
     "data": {
      "text/plain": [
       "Mineral Phase\n",
       "Amphibole      0.939359\n",
       "Background     0.986215\n",
       "Epidote        0.897788\n",
       "Fe-Oxide       0.940302\n",
       "Fe-Silicate    0.956577\n",
       "Ilmenite       0.983155\n",
       "Monazite       0.984087\n",
       "Rutile         0.978783\n",
       "Titanite       0.978953\n",
       "Zircon         0.982993\n",
       "Name: Probability, dtype: float64"
      ]
     },
     "execution_count": 32,
     "metadata": {},
     "output_type": "execute_result"
    }
   ],
   "source": [
    "# Apply the function row-wise to create new columns for every row\n",
    "result = probadf.apply(find_max_column, axis=1)\n",
    "# Display average prediction probability for each mineral class\n",
    "result.groupby(['Mineral Phase'])['Probability'].mean()"
   ]
  },
  {
   "cell_type": "markdown",
   "id": "rsvulM3VmFkf",
   "metadata": {
    "id": "rsvulM3VmFkf"
   },
   "source": [
    "##### 3.4.4.2 Test data:"
   ]
  },
  {
   "cell_type": "markdown",
   "id": "db6d3159",
   "metadata": {
    "id": "QeMA6py3lEMo"
   },
   "source": [
    "##### Generate and export class predictions and probabilities:"
   ]
  },
  {
   "cell_type": "code",
   "execution_count": 33,
   "id": "90f5e34c",
   "metadata": {
    "executionInfo": {
     "elapsed": 13,
     "status": "aborted",
     "timestamp": 1697457974600,
     "user": {
      "displayName": "Peter Millitz",
      "userId": "04527370084934815264"
     },
     "user_tz": -480
    },
    "id": "90f5e34c",
    "scrolled": false
   },
   "outputs": [],
   "source": [
    "# Generate predictions on the test set\n",
    "log_reg_test_pred = log_reg.predict(X_test)\n",
    "np.savetxt(\"G:/Modelling/OUTPUTS/preds_test.csv\", log_reg_test_pred, fmt=\"%s\", delimiter=\",\")"
   ]
  },
  {
   "cell_type": "code",
   "execution_count": 34,
   "id": "bd3744f8",
   "metadata": {},
   "outputs": [
    {
     "data": {
      "text/plain": [
       "array(['Epidote', 'Titanite', 'Background', ..., 'Epidote', 'Titanite',\n",
       "       'Rutile'], dtype='<U11')"
      ]
     },
     "execution_count": 34,
     "metadata": {},
     "output_type": "execute_result"
    }
   ],
   "source": [
    "log_reg_test_pred"
   ]
  },
  {
   "cell_type": "code",
   "execution_count": 35,
   "id": "d07d3f3d",
   "metadata": {},
   "outputs": [],
   "source": [
    "# Generate and export prediction probabilities on the test set\n",
    "log_reg_test_proba = log_reg.predict_proba(X_test)\n",
    "np.savetxt(\"G:/Modelling/OUTPUTS/probs_test.csv\", log_reg_test_proba, delimiter=\",\")"
   ]
  },
  {
   "cell_type": "code",
   "execution_count": 36,
   "id": "0aad381e",
   "metadata": {},
   "outputs": [
    {
     "data": {
      "text/plain": [
       "array([[1.07406735e-002, 6.37420394e-135, 9.89259326e-001, ...,\n",
       "        5.09654136e-080, 8.82182855e-023, 2.73666724e-132],\n",
       "       [2.78834402e-050, 4.50951053e-095, 3.23705580e-024, ...,\n",
       "        1.12003707e-065, 1.00000000e+000, 2.99288894e-072],\n",
       "       [4.57325162e-030, 1.00000000e+000, 3.71283804e-034, ...,\n",
       "        1.58361556e-067, 4.01240751e-058, 1.07027617e-083],\n",
       "       ...,\n",
       "       [4.99987879e-001, 3.22713830e-098, 5.00012121e-001, ...,\n",
       "        3.02411334e-085, 1.27168161e-034, 5.78790326e-095],\n",
       "       [1.56469718e-034, 1.15035430e-149, 1.69289207e-017, ...,\n",
       "        2.59669051e-104, 1.00000000e+000, 1.33326214e-099],\n",
       "       [6.08044167e-068, 4.87199144e-056, 1.74430267e-089, ...,\n",
       "        1.00000000e+000, 1.94428998e-044, 4.06859843e-056]])"
      ]
     },
     "execution_count": 36,
     "metadata": {},
     "output_type": "execute_result"
    }
   ],
   "source": [
    "log_reg_test_proba"
   ]
  },
  {
   "cell_type": "markdown",
   "id": "62b8c173",
   "metadata": {
    "id": "c590SeoClYg9"
   },
   "source": [
    "##### Confusion Matrix and prediction metrics:"
   ]
  },
  {
   "cell_type": "code",
   "execution_count": 37,
   "id": "b9c3f788",
   "metadata": {
    "executionInfo": {
     "elapsed": 14,
     "status": "aborted",
     "timestamp": 1697457974601,
     "user": {
      "displayName": "Peter Millitz",
      "userId": "04527370084934815264"
     },
     "user_tz": -480
    },
    "id": "b9c3f788",
    "scrolled": false
   },
   "outputs": [
    {
     "name": "stdout",
     "output_type": "stream",
     "text": [
      "log_reg model on test\n"
     ]
    },
    {
     "data": {
      "image/png": "[encoded data removed]",
      "text/plain": [
       "<Figure size 800x800 with 2 Axes>"
      ]
     },
     "metadata": {},
     "output_type": "display_data"
    }
   ],
   "source": [
    "# Generate a confusion matrix\n",
    "cm_log_reg_test = confusion_matrix(y_test, log_reg_test_pred)\n",
    "print(\"log_reg model on test\")\n",
    "disp = ConfusionMatrixDisplay(confusion_matrix=cm_log_reg_test,\n",
    "                              display_labels=['Amphibole', 'Background', 'Epidote', 'Fe-Oxide', 'Fe-Silicate',\n",
    "                                              'Ilmenite', 'Monazite', 'Rutile', 'Titanite', 'Zircon'])\n",
    "# Plot the confusion matrix\n",
    "disp.plot(colorbar=True)\n",
    "fig = disp.ax_.get_figure()\n",
    "fig.set_figwidth(8)\n",
    "fig.set_figheight(8)\n",
    "plt.xticks(rotation=45, fontsize=8)\n",
    "plt.yticks(fontsize=8)\n",
    "plt.suptitle(\"Confusion Matrix\")\n",
    "plt.savefig(\"G:/Modelling/IMAGES/cm_test.png\")\n",
    "plt.show()"
   ]
  },
  {
   "cell_type": "code",
   "execution_count": 38,
   "id": "d28d5b76",
   "metadata": {
    "executionInfo": {
     "elapsed": 14,
     "status": "aborted",
     "timestamp": 1697457974601,
     "user": {
      "displayName": "Peter Millitz",
      "userId": "04527370084934815264"
     },
     "user_tz": -480
    },
    "id": "d28d5b76",
    "scrolled": false
   },
   "outputs": [
    {
     "name": "stdout",
     "output_type": "stream",
     "text": [
      "Prediction results on test data:\n",
      "\n",
      "              precision    recall  f1-score   support\n",
      "\n",
      "   Amphibole       0.52      0.64      0.57      2570\n",
      "  Background       0.81      0.88      0.85      2644\n",
      "     Epidote       0.84      0.78      0.81      2662\n",
      "    Fe-Oxide       0.86      0.75      0.80      2563\n",
      " Fe-Silicate       0.83      0.78      0.80      2581\n",
      "    Ilmenite       0.89      0.84      0.86      2566\n",
      "    Monazite       0.84      0.98      0.90      2589\n",
      "      Rutile       0.94      0.87      0.90      2634\n",
      "    Titanite       0.92      0.77      0.84      2561\n",
      "      Zircon       0.92      0.99      0.96      2630\n",
      "\n",
      "    accuracy                           0.83     26000\n",
      "   macro avg       0.84      0.83      0.83     26000\n",
      "weighted avg       0.84      0.83      0.83     26000\n",
      "\n"
     ]
    }
   ],
   "source": [
    "# Report prediction results on test data\n",
    "print(\"Prediction results on test data:\\n\")\n",
    "print(classification_report(y_test, log_reg_test_pred, digits=2))"
   ]
  },
  {
   "cell_type": "markdown",
   "id": "U3opceXwnPYu",
   "metadata": {
    "id": "U3opceXwnPYu"
   },
   "source": [
    "##### 3.4.4.3 Arbitrary unbalanced test data (trained minerals only):"
   ]
  },
  {
   "cell_type": "code",
   "execution_count": 39,
   "id": "sUmLNeUpnpBa",
   "metadata": {
    "executionInfo": {
     "elapsed": 14,
     "status": "aborted",
     "timestamp": 1697457974601,
     "user": {
      "displayName": "Peter Millitz",
      "userId": "04527370084934815264"
     },
     "user_tz": -480
    },
    "id": "sUmLNeUpnpBa",
    "scrolled": false
   },
   "outputs": [],
   "source": [
    "# Load the arbitrary test set\n",
    "arb_test = pd.read_csv(\"G:/Modelling/FINAL_PROCESSED/10_combined_shuffled_proc.csv\")"
   ]
  },
  {
   "cell_type": "code",
   "execution_count": 40,
   "id": "f3_jDKQc9sMz",
   "metadata": {
    "executionInfo": {
     "elapsed": 15,
     "status": "aborted",
     "timestamp": 1697457974602,
     "user": {
      "displayName": "Peter Millitz",
      "userId": "04527370084934815264"
     },
     "user_tz": -480
    },
    "id": "f3_jDKQc9sMz"
   },
   "outputs": [
    {
     "data": {
      "text/html": [
       "<div>\n",
       "<style scoped>\n",
       "    .dataframe tbody tr th:only-of-type {\n",
       "        vertical-align: middle;\n",
       "    }\n",
       "\n",
       "    .dataframe tbody tr th {\n",
       "        vertical-align: top;\n",
       "    }\n",
       "\n",
       "    .dataframe thead th {\n",
       "        text-align: right;\n",
       "    }\n",
       "</style>\n",
       "<table border=\"1\" class=\"dataframe\">\n",
       "  <thead>\n",
       "    <tr style=\"text-align: right;\">\n",
       "      <th></th>\n",
       "      <th>CH_121</th>\n",
       "      <th>CH_122</th>\n",
       "      <th>CH_123</th>\n",
       "      <th>CH_124</th>\n",
       "      <th>CH_125</th>\n",
       "      <th>CH_126</th>\n",
       "      <th>CH_127</th>\n",
       "      <th>CH_128</th>\n",
       "      <th>CH_129</th>\n",
       "      <th>CH_130</th>\n",
       "      <th>...</th>\n",
       "      <th>CH_2492</th>\n",
       "      <th>CH_2493</th>\n",
       "      <th>CH_2494</th>\n",
       "      <th>CH_2495</th>\n",
       "      <th>CH_2496</th>\n",
       "      <th>CH_2497</th>\n",
       "      <th>CH_2498</th>\n",
       "      <th>CH_2499</th>\n",
       "      <th>CH_2500</th>\n",
       "      <th>Mineral Phase</th>\n",
       "    </tr>\n",
       "  </thead>\n",
       "  <tbody>\n",
       "    <tr>\n",
       "      <th>0</th>\n",
       "      <td>0</td>\n",
       "      <td>1</td>\n",
       "      <td>0</td>\n",
       "      <td>0</td>\n",
       "      <td>0</td>\n",
       "      <td>0</td>\n",
       "      <td>1</td>\n",
       "      <td>1</td>\n",
       "      <td>0</td>\n",
       "      <td>0</td>\n",
       "      <td>...</td>\n",
       "      <td>0</td>\n",
       "      <td>1</td>\n",
       "      <td>0</td>\n",
       "      <td>0</td>\n",
       "      <td>0</td>\n",
       "      <td>0</td>\n",
       "      <td>0</td>\n",
       "      <td>0</td>\n",
       "      <td>0</td>\n",
       "      <td>Background</td>\n",
       "    </tr>\n",
       "    <tr>\n",
       "      <th>1</th>\n",
       "      <td>0</td>\n",
       "      <td>0</td>\n",
       "      <td>0</td>\n",
       "      <td>1</td>\n",
       "      <td>0</td>\n",
       "      <td>0</td>\n",
       "      <td>0</td>\n",
       "      <td>0</td>\n",
       "      <td>0</td>\n",
       "      <td>0</td>\n",
       "      <td>...</td>\n",
       "      <td>0</td>\n",
       "      <td>0</td>\n",
       "      <td>0</td>\n",
       "      <td>0</td>\n",
       "      <td>0</td>\n",
       "      <td>0</td>\n",
       "      <td>0</td>\n",
       "      <td>0</td>\n",
       "      <td>0</td>\n",
       "      <td>Fe-Oxide</td>\n",
       "    </tr>\n",
       "    <tr>\n",
       "      <th>2</th>\n",
       "      <td>0</td>\n",
       "      <td>0</td>\n",
       "      <td>0</td>\n",
       "      <td>0</td>\n",
       "      <td>0</td>\n",
       "      <td>0</td>\n",
       "      <td>0</td>\n",
       "      <td>1</td>\n",
       "      <td>0</td>\n",
       "      <td>0</td>\n",
       "      <td>...</td>\n",
       "      <td>0</td>\n",
       "      <td>0</td>\n",
       "      <td>0</td>\n",
       "      <td>0</td>\n",
       "      <td>0</td>\n",
       "      <td>0</td>\n",
       "      <td>0</td>\n",
       "      <td>1</td>\n",
       "      <td>0</td>\n",
       "      <td>Background</td>\n",
       "    </tr>\n",
       "    <tr>\n",
       "      <th>3</th>\n",
       "      <td>0</td>\n",
       "      <td>0</td>\n",
       "      <td>0</td>\n",
       "      <td>0</td>\n",
       "      <td>0</td>\n",
       "      <td>0</td>\n",
       "      <td>0</td>\n",
       "      <td>2</td>\n",
       "      <td>0</td>\n",
       "      <td>0</td>\n",
       "      <td>...</td>\n",
       "      <td>0</td>\n",
       "      <td>0</td>\n",
       "      <td>0</td>\n",
       "      <td>0</td>\n",
       "      <td>0</td>\n",
       "      <td>0</td>\n",
       "      <td>0</td>\n",
       "      <td>0</td>\n",
       "      <td>0</td>\n",
       "      <td>Fe-Oxide</td>\n",
       "    </tr>\n",
       "    <tr>\n",
       "      <th>4</th>\n",
       "      <td>0</td>\n",
       "      <td>0</td>\n",
       "      <td>0</td>\n",
       "      <td>1</td>\n",
       "      <td>0</td>\n",
       "      <td>1</td>\n",
       "      <td>0</td>\n",
       "      <td>1</td>\n",
       "      <td>0</td>\n",
       "      <td>1</td>\n",
       "      <td>...</td>\n",
       "      <td>0</td>\n",
       "      <td>0</td>\n",
       "      <td>0</td>\n",
       "      <td>1</td>\n",
       "      <td>0</td>\n",
       "      <td>0</td>\n",
       "      <td>0</td>\n",
       "      <td>0</td>\n",
       "      <td>0</td>\n",
       "      <td>Background</td>\n",
       "    </tr>\n",
       "  </tbody>\n",
       "</table>\n",
       "<p>5 rows × 2381 columns</p>\n",
       "</div>"
      ],
      "text/plain": [
       "   CH_121  CH_122  CH_123  CH_124  CH_125  CH_126  CH_127  CH_128  CH_129  \\\n",
       "0       0       1       0       0       0       0       1       1       0   \n",
       "1       0       0       0       1       0       0       0       0       0   \n",
       "2       0       0       0       0       0       0       0       1       0   \n",
       "3       0       0       0       0       0       0       0       2       0   \n",
       "4       0       0       0       1       0       1       0       1       0   \n",
       "\n",
       "   CH_130  ...  CH_2492  CH_2493  CH_2494  CH_2495  CH_2496  CH_2497  CH_2498  \\\n",
       "0       0  ...        0        1        0        0        0        0        0   \n",
       "1       0  ...        0        0        0        0        0        0        0   \n",
       "2       0  ...        0        0        0        0        0        0        0   \n",
       "3       0  ...        0        0        0        0        0        0        0   \n",
       "4       1  ...        0        0        0        1        0        0        0   \n",
       "\n",
       "   CH_2499  CH_2500  Mineral Phase  \n",
       "0        0        0     Background  \n",
       "1        0        0       Fe-Oxide  \n",
       "2        1        0     Background  \n",
       "3        0        0       Fe-Oxide  \n",
       "4        0        0     Background  \n",
       "\n",
       "[5 rows x 2381 columns]"
      ]
     },
     "execution_count": 40,
     "metadata": {},
     "output_type": "execute_result"
    }
   ],
   "source": [
    "arb_test.head()"
   ]
  },
  {
   "cell_type": "code",
   "execution_count": 41,
   "id": "sg1Rhm3wjYX_",
   "metadata": {
    "executionInfo": {
     "elapsed": 14,
     "status": "aborted",
     "timestamp": 1697457974602,
     "user": {
      "displayName": "Peter Millitz",
      "userId": "04527370084934815264"
     },
     "user_tz": -480
    },
    "id": "sg1Rhm3wjYX_"
   },
   "outputs": [
    {
     "data": {
      "text/plain": [
       "Mineral Phase\n",
       "Amphibole      3984\n",
       "Background     7000\n",
       "Epidote        5193\n",
       "Fe-Oxide       7000\n",
       "Fe-Silicate    1229\n",
       "Ilmenite       5808\n",
       "Monazite        408\n",
       "Rutile          611\n",
       "Titanite       1768\n",
       "Zircon          179\n",
       "dtype: int64"
      ]
     },
     "execution_count": 41,
     "metadata": {},
     "output_type": "execute_result"
    }
   ],
   "source": [
    "# Check response category proportions\n",
    "mineral_groups = arb_test.groupby('Mineral Phase').size()\n",
    "mineral_groups"
   ]
  },
  {
   "cell_type": "code",
   "execution_count": 42,
   "id": "BKQ5lO7wfiAP",
   "metadata": {
    "executionInfo": {
     "elapsed": 14,
     "status": "aborted",
     "timestamp": 1697457974602,
     "user": {
      "displayName": "Peter Millitz",
      "userId": "04527370084934815264"
     },
     "user_tz": -480
    },
    "id": "BKQ5lO7wfiAP"
   },
   "outputs": [],
   "source": [
    " # Rename dataframe, call it X_arb\n",
    "X_arb = arb_test\n",
    "# Breakout the 'Mineral Phase'attribute and store in y (target)\n",
    "y_arb = X_arb['Mineral Phase'].copy()\n",
    "# Drop response attribute from X\n",
    "X_arb.drop(columns=['Mineral Phase'], inplace=True)"
   ]
  },
  {
   "cell_type": "code",
   "execution_count": 43,
   "id": "nKE_uahi28iY",
   "metadata": {
    "executionInfo": {
     "elapsed": 14,
     "status": "aborted",
     "timestamp": 1697457974602,
     "user": {
      "displayName": "Peter Millitz",
      "userId": "04527370084934815264"
     },
     "user_tz": -480
    },
    "id": "nKE_uahi28iY"
   },
   "outputs": [
    {
     "name": "stdout",
     "output_type": "stream",
     "text": [
      "Peak to Peak range by column in Standardized X_train: [10.9832803  12.33947936 13.46875396 ...  8.78153174  8.83133629\n",
      " 11.72542966]\n"
     ]
    }
   ],
   "source": [
    "# Standardize the arbitrary test set attributes\n",
    "X_arb  = std_scaler.transform(X_arb) # Note: X_arb gets converted to an ndarray on output\n",
    "print(f\"Peak to Peak range by column in Standardized X_train: {np.ptp(X_train,axis=0)}\")"
   ]
  },
  {
   "cell_type": "code",
   "execution_count": 44,
   "id": "53YJtma728it",
   "metadata": {
    "executionInfo": {
     "elapsed": 15,
     "status": "aborted",
     "timestamp": 1697457974603,
     "user": {
      "displayName": "Peter Millitz",
      "userId": "04527370084934815264"
     },
     "user_tz": -480
    },
    "id": "53YJtma728it"
   },
   "outputs": [
    {
     "name": "stdout",
     "output_type": "stream",
     "text": [
      "The shape of X_arb is: (33180, 2380)\n",
      "The shape of y_arb is:  (33180,)\n",
      "Number of arb_test examples: 33180\n"
     ]
    }
   ],
   "source": [
    "# Check the shape of all input arrays\n",
    "print ('The shape of X_arb is:', X_arb.shape)\n",
    "print ('The shape of y_arb is: ', y_arb.shape)\n",
    "print ('Number of arb_test examples:', len(X_arb))\n"
   ]
  },
  {
   "cell_type": "markdown",
   "id": "7a0ed7a5",
   "metadata": {
    "id": "QeMA6py3lEMo"
   },
   "source": [
    "##### Generate class predictions and probabilities:"
   ]
  },
  {
   "cell_type": "code",
   "execution_count": 45,
   "id": "KBG_f5w8oaOg",
   "metadata": {
    "executionInfo": {
     "elapsed": 15,
     "status": "aborted",
     "timestamp": 1697457974603,
     "user": {
      "displayName": "Peter Millitz",
      "userId": "04527370084934815264"
     },
     "user_tz": -480
    },
    "id": "KBG_f5w8oaOg",
    "scrolled": false
   },
   "outputs": [],
   "source": [
    "# Generate predictions on the arbitrary test set\n",
    "log_reg_arb_pred = log_reg.predict(X_arb)\n",
    "np.savetxt(\"G:/Modelling/OUTPUTS/preds_arb.csv\", log_reg_arb_pred, fmt=\"%s\", delimiter=\",\")"
   ]
  },
  {
   "cell_type": "code",
   "execution_count": 46,
   "id": "474b16f8",
   "metadata": {},
   "outputs": [
    {
     "data": {
      "text/plain": [
       "array(['Background', 'Fe-Oxide', 'Background', ..., 'Background',\n",
       "       'Monazite', 'Background'], dtype='<U11')"
      ]
     },
     "execution_count": 46,
     "metadata": {},
     "output_type": "execute_result"
    }
   ],
   "source": [
    "log_reg_arb_pred"
   ]
  },
  {
   "cell_type": "code",
   "execution_count": 47,
   "id": "e88c1753",
   "metadata": {},
   "outputs": [],
   "source": [
    "# Generate and export prediction probabilities on the arb_test set\n",
    "log_reg_arb_proba = log_reg.predict_proba(X_arb)\n",
    "np.savetxt(\"G:/Modelling/OUTPUTS/probs_arb.csv\", log_reg_arb_proba, delimiter=\",\")"
   ]
  },
  {
   "cell_type": "code",
   "execution_count": 48,
   "id": "a728aaed",
   "metadata": {},
   "outputs": [
    {
     "data": {
      "text/plain": [
       "array([[1.35345433e-040, 1.00000000e+000, 1.76217700e-035, ...,\n",
       "        2.70643811e-016, 1.26826528e-038, 6.68307412e-132],\n",
       "       [8.15364107e-030, 4.47075254e-082, 5.19920344e-068, ...,\n",
       "        8.28843850e-096, 9.08332099e-133, 3.73487616e-070],\n",
       "       [1.11395644e-046, 1.00000000e+000, 3.18102829e-051, ...,\n",
       "        1.73389473e-081, 3.62838189e-056, 1.13052342e-057],\n",
       "       ...,\n",
       "       [2.77921805e-026, 1.00000000e+000, 9.37119946e-016, ...,\n",
       "        2.05569680e-023, 4.65434103e-050, 1.26691791e-054],\n",
       "       [8.66859788e-009, 2.37702637e-063, 2.39193717e-047, ...,\n",
       "        3.47870197e-032, 1.58283472e-032, 5.72405891e-032],\n",
       "       [7.41604548e-032, 1.00000000e+000, 8.67817616e-044, ...,\n",
       "        2.59078927e-031, 9.98410650e-067, 2.61795038e-062]])"
      ]
     },
     "execution_count": 48,
     "metadata": {},
     "output_type": "execute_result"
    }
   ],
   "source": [
    "log_reg_arb_proba"
   ]
  },
  {
   "cell_type": "markdown",
   "id": "2c998e83",
   "metadata": {
    "id": "c590SeoClYg9"
   },
   "source": [
    "##### Confusion Matrix and prediction metrics:"
   ]
  },
  {
   "cell_type": "code",
   "execution_count": 49,
   "id": "YGo165oKoaOw",
   "metadata": {
    "executionInfo": {
     "elapsed": 14,
     "status": "aborted",
     "timestamp": 1697457974603,
     "user": {
      "displayName": "Peter Millitz",
      "userId": "04527370084934815264"
     },
     "user_tz": -480
    },
    "id": "YGo165oKoaOw",
    "scrolled": false
   },
   "outputs": [
    {
     "name": "stdout",
     "output_type": "stream",
     "text": [
      "log_reg model on arb_test\n"
     ]
    },
    {
     "data": {
      "image/png": "[encoded data removed]",
      "text/plain": [
       "<Figure size 800x800 with 2 Axes>"
      ]
     },
     "metadata": {},
     "output_type": "display_data"
    }
   ],
   "source": [
    "# Generate a confusion matrix\n",
    "cm_log_reg_arb = confusion_matrix(y_arb, log_reg_arb_pred)\n",
    "print(\"log_reg model on arb_test\")\n",
    "disp = ConfusionMatrixDisplay(confusion_matrix=cm_log_reg_arb, display_labels=['Amphibole', 'Background',\n",
    "                                              'Epidote', 'Fe-Oxide', 'Fe-Silicate', 'Ilmenite', 'Monazite',\n",
    "                                              'Rutile', 'Titanite', 'Zircon'])\n",
    "# Plot the confusion matrix\n",
    "disp.plot(colorbar=True)\n",
    "fig = disp.ax_.get_figure()\n",
    "fig.set_figwidth(8)\n",
    "fig.set_figheight(8)\n",
    "plt.xticks(rotation=45, fontsize=8)\n",
    "plt.yticks(fontsize=8)\n",
    "plt.suptitle(\"Confusion Matrix\")\n",
    "plt.savefig(\"G:/Modelling/IMAGES/cm_arb.png\")\n",
    "plt.show()"
   ]
  },
  {
   "cell_type": "code",
   "execution_count": 50,
   "id": "f8_bpxttoaOx",
   "metadata": {
    "executionInfo": {
     "elapsed": 14,
     "status": "aborted",
     "timestamp": 1697457974603,
     "user": {
      "displayName": "Peter Millitz",
      "userId": "04527370084934815264"
     },
     "user_tz": -480
    },
    "id": "f8_bpxttoaOx",
    "scrolled": false
   },
   "outputs": [
    {
     "name": "stdout",
     "output_type": "stream",
     "text": [
      "Prediction results on arb_test data:\n",
      "\n",
      "              precision    recall  f1-score   support\n",
      "\n",
      "   Amphibole       0.51      0.59      0.55      3984\n",
      "  Background       0.90      0.87      0.88      7000\n",
      "     Epidote       0.85      0.73      0.79      5193\n",
      "    Fe-Oxide       0.94      0.85      0.89      7000\n",
      " Fe-Silicate       0.42      0.68      0.52      1229\n",
      "    Ilmenite       0.94      0.78      0.86      5808\n",
      "    Monazite       0.31      0.93      0.47       408\n",
      "      Rutile       0.55      0.71      0.62       611\n",
      "    Titanite       0.81      0.77      0.79      1768\n",
      "      Zircon       0.40      1.00      0.57       179\n",
      "\n",
      "    accuracy                           0.78     33180\n",
      "   macro avg       0.66      0.79      0.69     33180\n",
      "weighted avg       0.82      0.78      0.79     33180\n",
      "\n"
     ]
    }
   ],
   "source": [
    "# Report prediction results on arb_test data\n",
    "print(\"Prediction results on arb_test data:\\n\")\n",
    "print(classification_report(y_arb, log_reg_arb_pred, digits=2))"
   ]
  },
  {
   "cell_type": "markdown",
   "id": "f845381b",
   "metadata": {},
   "source": [
    "## 4. Discussion"
   ]
  },
  {
   "cell_type": "markdown",
   "id": "65f05e28",
   "metadata": {},
   "source": [
    "Table 1 below juxtaposes the full classification performance metrics for each evaluation (training, test, unbalanced test). The model displayed very similar results on training and test data with an overall accuracy of ~82% indicating a robust model with no evidence of overfitting however did not perform to the same accuracy as more complex Random Forest and Deep Learning models developed by other team members. This was not unexpected. Despite lower accuracy, the strength of this model lay in is its simplicity, interpretability and transparency relative to more complex ‘black box’ models and was principal motivation for its construction.\n",
    "\n",
    "As also observed by other team models, a drop in performance was seen on unbalanced test sets particular for minerals with low representation. For example, Monazite, Rutile and Zircon saw a significant reduction in precision while recall was far less affected - in fact Zircon returned a perfect score and Monazite still managed a high recall at 93%. This indicated that the model produced more false positives for those minerals while still maintaining its ability to accurately predict true positives, the latter being of prime importance for the client. A handful of minerals was seen to consistently return mediocre predictions by models across all data sets and the logistic regression model was no exception (e.g., Amphibole). The reason for this unknown and a topic for further investigation.\n",
    "\n",
    "Apart from the lower accuracy achieved compared to other models, an obvious limitation of the model was that it was only capable of predicting 10 minerals. This however was mainly due to the memory and compute resources available and to some extent time constraints. (A 23 mineral model was constructed taking just under 1hr to train however hyperparameter tuning was not possible due to insufficient memory). Out-of-core or mini-batch learning is one way to avoid memory issues but was not implemented because training times were projected to be similar if not longer. That said, other team members were able to successfully implement incremental learning techniques for their models."
   ]
  },
  {
   "cell_type": "markdown",
   "id": "3c578693",
   "metadata": {},
   "source": [
    "|               |           | training |          |         |           |  test  |          |         |           | test (u/b) |          |         |\n",
    "|---------------|----------:|---------:|---------:|--------:|----------:|-------:|---------:|--------:|----------:|-----------:|---------:|--------:|\n",
    "|               |           |          |          |         |           |        |          |         |           |            |          |         |\n",
    "| Mineral Phase | precision |   recall | f1-score | support | precision | recall | f1-score | support | precision |     recall | f1-score | support |\n",
    "|               |           |          |          |         |           |        |          |         |           |            |          |         |\n",
    "|     Amphibole | 0.64      | 0.54     | 0.58     | 10430   | 0.52      | 0.64   | 0.57     | 2570    | 0.51      | 0.59       | 0.55     | 3984    |\n",
    "|    Background | 0.76      | 0.94     | 0.84     | 10356   | 0.81      | 0.88   | 0.85     | 2644    | 0.90      | 0.87       | 0.88     | 7000    |\n",
    "|       Epidote | 0.84      | 0.78     | 0.81     | 10338   | 0.84      | 0.78   | 0.81     | 2662    | 0.85      | 0.73       | 0.79     | 5193    |\n",
    "|      Fe-Oxide | 0.85      | 0.74     | 0.80     | 10437   | 0.86      | 0.75   | 0.80     | 2563    | 0.94      | 0.85       | 0.89     | 7000    |\n",
    "|   Fe-Silicate | 0.85      | 0.83     | 0.84     | 10419   | 0.83      | 0.78   | 0.80     | 2581    | 0.42      | 0.68       | 0.52     | 1229    |\n",
    "|      Ilmenite | 0.91      | 0.78     | 0.84     | 10434   | 0.89      | 0.84   | 0.86     | 2566    | 0.94      | 0.78       | 0.86     | 5808    |\n",
    "|      Monazite | 0.91      | 0.98     | 0.95     | 10411   | 0.84      | 0.98   | 0.90     | 2589    | 0.31      | 0.93       | 0.47     |  408    |\n",
    "|        Rutile | 0.95      | 0.86     | 0.90     | 10366   | 0.94      | 0.87   | 0.90     | 2634    | 0.55      | 0.71       | 0.62     |  611    |\n",
    "|      Titanite | 0.92      | 0.74     | 0.82     | 10439   | 0.92      | 0.77   | 0.84     | 2561    | 0.81      | 0.77       | 0.79     | 1768    |\n",
    "|        Zircon | 0.65      | 0.99     | 0.79     | 10370   | 0.92      | 0.99   | 0.96     | 2630    | 0.40      | 1.00       | 0.57     |  179    |\n",
    "|               |           |          |          |         |           |        |          |         |           |            |          |         |\n",
    "| accuracy      |           |          | 0.82     | 104000  |           |        | 0.83     | 26000   |           |            | 0.78     | 33180   |\n",
    "| macro avg     | 0.83      | 0.82     | 0.82     | 104000  | 0.84      | 0.83   | 0.83     | 26000   | 0.66      | 0.79       | 0.69     | 33180   |\n",
    "| weighted avg  | 0.83      | 0.82     | 0.82     | 104000  | 0.84      | 0.83   | 0.83     | 26000   | 0.82      | 0.78       | 0.79     | 33180   |"
   ]
  },
  {
   "cell_type": "markdown",
   "id": "eef9ff19",
   "metadata": {},
   "source": [
    "Table 1: Classification performance for 10 mineral model on training, test and unbalanced test sets."
   ]
  },
  {
   "cell_type": "markdown",
   "id": "6ddc1f3a",
   "metadata": {},
   "source": [
    "Figure 1 in section 3.4.3 displays a visualisation of the model weights extracted from the 10-mineral model. The weights represent the coefficients of the predictor variables on the scale of the linear predictor. The absolute magnitude of each coefficient is an indication of the strength of contribution of a predictor (in this case a particular channel count) to the predicted response of the model. The larger the magnitude of the coefficient, the greater the contribution. The graphic displays only those channels with weights above an arbitrary threshold (default=|1|). The intention is to  provide a visual indication of channels that are most/least useful to the identifcation of minerals."
   ]
  },
  {
   "cell_type": "markdown",
   "id": "4e4103ae",
   "metadata": {},
   "source": [
    "In Section 3.4.4.1, average prediction probabilities are computed for each mineral and displayed. Specifically, these represent the prediction probabilites averaged over all positive predictions of that mineral in the training set and should be used with caution. Alternatively, the prediction probabilities for each mineral in each observation are output in bulk as a CSV file and should prove more useful. For example, if the maximum probability in an observation is found to be very low, say below 50%, that observation could be tagged for further investigation as an unknown mineral of potential interest."
   ]
  },
  {
   "cell_type": "markdown",
   "id": "ea443077",
   "metadata": {},
   "source": [
    "## 5. Summary"
   ]
  },
  {
   "cell_type": "markdown",
   "id": "4b0989fd",
   "metadata": {},
   "source": [
    "A multinomial logistic regression model with L1 regularistion was constructed with the objective of rapidly, accurately and precisely identifying minerals from spectral energy channel counts derived from micro-XRF scanning of mineral grain samples. The model was an individual contribution by the author towards a joint effort by the UWA Data Science Capstone Project Group 8 team.\n",
    "\n",
    "The nature of the supplied dataset posed significant challenges to model design and construction, particularly with regard to available compute and storage resources. As such, a decision was made to limit the scope of the final model to 10 classes instead of the full 51 for the purposes of this project.\n",
    "\n",
    "The resulting model performed equally well on unseen test data as it did on the data it was trained on, returning an overall accuracy of ~83%, indicating the model was robust with no evidence of overfitting. A drop in performance was seen on unbalanced test data particularly for minerals with low representation. This was a common observation across all models evaluated by the team. Importantly, the model appeared to maintain its integrity with respect to accurately predicting true positives under these circumstances. One mineral (Amphibole) consistently returned mediocre scores for reasons which were unclear. Other models observed a similar result for this mineral. \n",
    "\n",
    "Although the model did not achieve the same level of accuracy as more complex models developed by the team, this was not entirely unexpected. Despite the lower accuracy, the strength of this model lay in its simplicity, interpretability and transparency. Conceptually, its intention from the outset was to serve as a 'baseline' robust proof-of-concept classifier capable of providing all the necessary outputs."
   ]
  }
 ],
 "metadata": {
  "celltoolbar": "Raw Cell Format",
  "colab": {
   "machine_shape": "hm",
   "provenance": [],
   "toc_visible": true
  },
  "kernelspec": {
   "display_name": "Python 3 (ipykernel)",
   "language": "python",
   "name": "python3"
  },
  "language_info": {
   "codemirror_mode": {
    "name": "ipython",
    "version": 3
   },
   "file_extension": ".py",
   "mimetype": "text/x-python",
   "name": "python",
   "nbconvert_exporter": "python",
   "pygments_lexer": "ipython3",
   "version": "3.11.0"
  }
 },
 "nbformat": 4,
 "nbformat_minor": 5
}
