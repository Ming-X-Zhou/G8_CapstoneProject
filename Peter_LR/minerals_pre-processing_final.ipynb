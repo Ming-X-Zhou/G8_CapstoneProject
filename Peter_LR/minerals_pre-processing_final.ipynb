{
 "cells": [
  {
   "cell_type": "markdown",
   "id": "e729dbb8",
   "metadata": {
    "id": "e729dbb8"
   },
   "source": [
    "# CITS5553 Data Capstone Project\n",
    "## Classifying Mineral Grains Using Data Science\n",
    "### Peter Millitz (Student No. 23088298)\n",
    "### Date: 22 Oct 2023    \n"
   ]
  },
  {
   "cell_type": "markdown",
   "id": "9mGUszbj5wll",
   "metadata": {
    "id": "9mGUszbj5wll"
   },
   "source": [
    "# Mineral Grains dataset pre-processing pipeline"
   ]
  },
  {
   "cell_type": "markdown",
   "id": "b31a92fe",
   "metadata": {},
   "source": [
    "This jupyter notebook is specifically intended for pre-processing input subsets of the Data Capstone G8 Mineral Grains dataset prior to constructing and training the model. A separate notebook is provided for the latter."
   ]
  },
  {
   "cell_type": "markdown",
   "id": "6fc89969",
   "metadata": {
    "id": "6fc89969"
   },
   "source": [
    "## 1. Setup and configuration"
   ]
  },
  {
   "cell_type": "markdown",
   "id": "f8e7bc8f",
   "metadata": {
    "id": "f8e7bc8f"
   },
   "source": [
    "### 1.1 Load common libraries and settings"
   ]
  },
  {
   "cell_type": "code",
   "execution_count": 2,
   "id": "b957389c",
   "metadata": {
    "executionInfo": {
     "elapsed": 1878,
     "status": "ok",
     "timestamp": 1697157768938,
     "user": {
      "displayName": "Peter Millitz",
      "userId": "04527370084934815264"
     },
     "user_tz": -480
    },
    "id": "b957389c",
    "scrolled": false
   },
   "outputs": [],
   "source": [
    "import pandas as pd\n",
    "import numpy as np\n",
    "import time\n",
    "import os\n",
    "\n",
    "from sklearn.linear_model import SGDClassifier\n",
    "from sklearn.metrics import confusion_matrix, ConfusionMatrixDisplay\n",
    "from sklearn.metrics import classification_report\n",
    "from sklearn.metrics import roc_curve\n",
    "from sklearn.metrics import roc_auc_score\n",
    "from sklearn.model_selection import train_test_split\n",
    "from sklearn.model_selection import cross_val_predict\n",
    "from sklearn.model_selection import cross_val_score\n",
    "from sklearn.model_selection import GridSearchCV\n",
    "from sklearn.preprocessing import StandardScaler\n",
    "from sklearn.metrics import mean_squared_error\n",
    "from sklearn.impute import SimpleImputer\n",
    "from imblearn.under_sampling import RandomUnderSampler\n",
    "\n",
    "from IPython.core.display import Markdown\n",
    "\n",
    "%matplotlib inline\n",
    "import matplotlib as mpl\n",
    "import matplotlib.pyplot as plt\n",
    "mpl.rc('axes', labelsize=12)\n",
    "mpl.rc('xtick', labelsize=10)\n",
    "mpl.rc('ytick', labelsize=10)\n",
    "\n",
    "# Where to save the figures\n",
    "#PROJECT_ROOT_DIR = \".\"\n",
    "#IMAGES_PATH = os.path.join(PROJECT_ROOT_DIR, \"images\")\n",
    "#os.makedirs(IMAGES_PATH, exist_ok=True)"
   ]
  },
  {
   "cell_type": "markdown",
   "id": "5d0631f1",
   "metadata": {
    "id": "5d0631f1"
   },
   "source": [
    "### 1.2 Data repository access"
   ]
  },
  {
   "cell_type": "code",
   "execution_count": 3,
   "id": "yXoA3Pz11n4Z",
   "metadata": {
    "colab": {
     "base_uri": "https://localhost:8080/"
    },
    "executionInfo": {
     "elapsed": 24318,
     "status": "ok",
     "timestamp": 1697157798059,
     "user": {
      "displayName": "Peter Millitz",
      "userId": "04527370084934815264"
     },
     "user_tz": -480
    },
    "id": "yXoA3Pz11n4Z",
    "outputId": "0a257138-4c6d-4ffc-9d1b-267d0692d556"
   },
   "outputs": [
    {
     "data": {
      "text/plain": [
       "True"
      ]
     },
     "execution_count": 3,
     "metadata": {},
     "output_type": "execute_result"
    }
   ],
   "source": [
    "os.access(\"G:/Modelling\", os.F_OK)"
   ]
  },
  {
   "cell_type": "markdown",
   "id": "2clM7SByPVEU",
   "metadata": {
    "id": "2clM7SByPVEU"
   },
   "source": [
    "## 2. Load, examine and clean the dataset"
   ]
  },
  {
   "cell_type": "markdown",
   "id": "4fGBMbfYQxWB",
   "metadata": {
    "id": "4fGBMbfYQxWB"
   },
   "source": [
    "### 2.1 Examine the dataset"
   ]
  },
  {
   "cell_type": "code",
   "execution_count": 5,
   "id": "8-sTQEWeXd6Y",
   "metadata": {
    "executionInfo": {
     "elapsed": 741,
     "status": "ok",
     "timestamp": 1697158426801,
     "user": {
      "displayName": "Peter Millitz",
      "userId": "04527370084934815264"
     },
     "user_tz": -480
    },
    "id": "8-sTQEWeXd6Y"
   },
   "outputs": [],
   "source": [
    "input_csvfile  = \"G:/Modelling/FINAL_PROCESSED/10_combined_shuffled.csv\"\n",
    "output_csvfile = \"G:/Modelling/FINAL_PROCESSED/10_combined_shuffled_proc.csv\""
   ]
  },
  {
   "cell_type": "code",
   "execution_count": 6,
   "id": "db11ffce",
   "metadata": {
    "executionInfo": {
     "elapsed": 23554,
     "status": "ok",
     "timestamp": 1697158408816,
     "user": {
      "displayName": "Peter Millitz",
      "userId": "04527370084934815264"
     },
     "user_tz": -480
    },
    "id": "db11ffce"
   },
   "outputs": [],
   "source": [
    "# Load data file\n",
    "rawdata = pd.read_csv(input_csvfile)"
   ]
  },
  {
   "cell_type": "code",
   "execution_count": 7,
   "id": "92VitxsnI6nl",
   "metadata": {
    "colab": {
     "base_uri": "https://localhost:8080/",
     "height": 290
    },
    "executionInfo": {
     "elapsed": 539,
     "status": "ok",
     "timestamp": 1697158412034,
     "user": {
      "displayName": "Peter Millitz",
      "userId": "04527370084934815264"
     },
     "user_tz": -480
    },
    "id": "92VitxsnI6nl",
    "outputId": "7ee9643a-050a-42b7-8bb1-4996ea740def"
   },
   "outputs": [
    {
     "data": {
      "text/html": [
       "<div>\n",
       "<style scoped>\n",
       "    .dataframe tbody tr th:only-of-type {\n",
       "        vertical-align: middle;\n",
       "    }\n",
       "\n",
       "    .dataframe tbody tr th {\n",
       "        vertical-align: top;\n",
       "    }\n",
       "\n",
       "    .dataframe thead th {\n",
       "        text-align: right;\n",
       "    }\n",
       "</style>\n",
       "<table border=\"1\" class=\"dataframe\">\n",
       "  <thead>\n",
       "    <tr style=\"text-align: right;\">\n",
       "      <th></th>\n",
       "      <th>x</th>\n",
       "      <th>y</th>\n",
       "      <th>yinv</th>\n",
       "      <th>CH_1</th>\n",
       "      <th>CH_2</th>\n",
       "      <th>CH_3</th>\n",
       "      <th>CH_4</th>\n",
       "      <th>CH_5</th>\n",
       "      <th>CH_6</th>\n",
       "      <th>CH_7</th>\n",
       "      <th>...</th>\n",
       "      <th>CH_4089</th>\n",
       "      <th>CH_4090</th>\n",
       "      <th>CH_4091</th>\n",
       "      <th>CH_4092</th>\n",
       "      <th>CH_4093</th>\n",
       "      <th>CH_4094</th>\n",
       "      <th>CH_4095</th>\n",
       "      <th>CH_4096</th>\n",
       "      <th>Sum</th>\n",
       "      <th>Mineral Phase</th>\n",
       "    </tr>\n",
       "  </thead>\n",
       "  <tbody>\n",
       "    <tr>\n",
       "      <th>0</th>\n",
       "      <td>8800</td>\n",
       "      <td>6400</td>\n",
       "      <td>11400</td>\n",
       "      <td>0</td>\n",
       "      <td>0</td>\n",
       "      <td>0</td>\n",
       "      <td>0</td>\n",
       "      <td>0</td>\n",
       "      <td>0</td>\n",
       "      <td>0</td>\n",
       "      <td>...</td>\n",
       "      <td>0</td>\n",
       "      <td>0</td>\n",
       "      <td>1</td>\n",
       "      <td>0</td>\n",
       "      <td>2</td>\n",
       "      <td>0</td>\n",
       "      <td>0</td>\n",
       "      <td>0.0</td>\n",
       "      <td>8439</td>\n",
       "      <td>AlFe-Silicate</td>\n",
       "    </tr>\n",
       "    <tr>\n",
       "      <th>1</th>\n",
       "      <td>8000</td>\n",
       "      <td>11600</td>\n",
       "      <td>5800</td>\n",
       "      <td>0</td>\n",
       "      <td>0</td>\n",
       "      <td>0</td>\n",
       "      <td>0</td>\n",
       "      <td>0</td>\n",
       "      <td>0</td>\n",
       "      <td>0</td>\n",
       "      <td>...</td>\n",
       "      <td>0</td>\n",
       "      <td>0</td>\n",
       "      <td>1</td>\n",
       "      <td>0</td>\n",
       "      <td>2</td>\n",
       "      <td>2</td>\n",
       "      <td>1</td>\n",
       "      <td>1.0</td>\n",
       "      <td>2971</td>\n",
       "      <td>Background</td>\n",
       "    </tr>\n",
       "    <tr>\n",
       "      <th>2</th>\n",
       "      <td>3200</td>\n",
       "      <td>7800</td>\n",
       "      <td>9400</td>\n",
       "      <td>0</td>\n",
       "      <td>0</td>\n",
       "      <td>0</td>\n",
       "      <td>0</td>\n",
       "      <td>0</td>\n",
       "      <td>0</td>\n",
       "      <td>0</td>\n",
       "      <td>...</td>\n",
       "      <td>0</td>\n",
       "      <td>0</td>\n",
       "      <td>0</td>\n",
       "      <td>0</td>\n",
       "      <td>0</td>\n",
       "      <td>0</td>\n",
       "      <td>2</td>\n",
       "      <td>2.0</td>\n",
       "      <td>10613</td>\n",
       "      <td>Fe-Oxide</td>\n",
       "    </tr>\n",
       "    <tr>\n",
       "      <th>3</th>\n",
       "      <td>0</td>\n",
       "      <td>6200</td>\n",
       "      <td>10400</td>\n",
       "      <td>0</td>\n",
       "      <td>0</td>\n",
       "      <td>0</td>\n",
       "      <td>0</td>\n",
       "      <td>0</td>\n",
       "      <td>0</td>\n",
       "      <td>0</td>\n",
       "      <td>...</td>\n",
       "      <td>0</td>\n",
       "      <td>1</td>\n",
       "      <td>0</td>\n",
       "      <td>0</td>\n",
       "      <td>1</td>\n",
       "      <td>0</td>\n",
       "      <td>0</td>\n",
       "      <td>2.0</td>\n",
       "      <td>3970</td>\n",
       "      <td>Background</td>\n",
       "    </tr>\n",
       "    <tr>\n",
       "      <th>4</th>\n",
       "      <td>15800</td>\n",
       "      <td>12800</td>\n",
       "      <td>4600</td>\n",
       "      <td>0</td>\n",
       "      <td>0</td>\n",
       "      <td>0</td>\n",
       "      <td>0</td>\n",
       "      <td>0</td>\n",
       "      <td>0</td>\n",
       "      <td>0</td>\n",
       "      <td>...</td>\n",
       "      <td>1</td>\n",
       "      <td>0</td>\n",
       "      <td>1</td>\n",
       "      <td>0</td>\n",
       "      <td>0</td>\n",
       "      <td>0</td>\n",
       "      <td>0</td>\n",
       "      <td>2.0</td>\n",
       "      <td>11347</td>\n",
       "      <td>Fe-Oxide</td>\n",
       "    </tr>\n",
       "  </tbody>\n",
       "</table>\n",
       "<p>5 rows × 4101 columns</p>\n",
       "</div>"
      ],
      "text/plain": [
       "       x      y   yinv  CH_1  CH_2  CH_3  CH_4  CH_5  CH_6  CH_7  ...  \\\n",
       "0   8800   6400  11400     0     0     0     0     0     0     0  ...   \n",
       "1   8000  11600   5800     0     0     0     0     0     0     0  ...   \n",
       "2   3200   7800   9400     0     0     0     0     0     0     0  ...   \n",
       "3      0   6200  10400     0     0     0     0     0     0     0  ...   \n",
       "4  15800  12800   4600     0     0     0     0     0     0     0  ...   \n",
       "\n",
       "   CH_4089  CH_4090  CH_4091  CH_4092  CH_4093  CH_4094  CH_4095  CH_4096  \\\n",
       "0        0        0        1        0        2        0        0      0.0   \n",
       "1        0        0        1        0        2        2        1      1.0   \n",
       "2        0        0        0        0        0        0        2      2.0   \n",
       "3        0        1        0        0        1        0        0      2.0   \n",
       "4        1        0        1        0        0        0        0      2.0   \n",
       "\n",
       "     Sum  Mineral Phase  \n",
       "0   8439  AlFe-Silicate  \n",
       "1   2971     Background  \n",
       "2  10613       Fe-Oxide  \n",
       "3   3970     Background  \n",
       "4  11347       Fe-Oxide  \n",
       "\n",
       "[5 rows x 4101 columns]"
      ]
     },
     "execution_count": 7,
     "metadata": {},
     "output_type": "execute_result"
    }
   ],
   "source": [
    "# Examine the first few lines\n",
    "rawdata.head()"
   ]
  },
  {
   "cell_type": "code",
   "execution_count": 8,
   "id": "PuOxPk17LF8v",
   "metadata": {
    "colab": {
     "base_uri": "https://localhost:8080/"
    },
    "executionInfo": {
     "elapsed": 1330,
     "status": "ok",
     "timestamp": 1697158417423,
     "user": {
      "displayName": "Peter Millitz",
      "userId": "04527370084934815264"
     },
     "user_tz": -480
    },
    "id": "PuOxPk17LF8v",
    "outputId": "2a5e3e96-7e6f-4f2e-c407-be8980204eca"
   },
   "outputs": [
    {
     "name": "stdout",
     "output_type": "stream",
     "text": [
      "<class 'pandas.core.frame.DataFrame'>\n",
      "RangeIndex: 44045 entries, 0 to 44044\n",
      "Columns: 4101 entries, x to Mineral Phase\n",
      "dtypes: float64(1), int64(4099), object(1)\n",
      "memory usage: 1.3+ GB\n"
     ]
    }
   ],
   "source": [
    "# Get some info on the data set\n",
    "rawdata.info()"
   ]
  },
  {
   "cell_type": "markdown",
   "id": "of4GHHoDQ5Tk",
   "metadata": {
    "id": "of4GHHoDQ5Tk"
   },
   "source": [
    "### 2.2 Fix missing values"
   ]
  },
  {
   "cell_type": "code",
   "execution_count": 9,
   "id": "f2Nx2G6hL0GN",
   "metadata": {
    "colab": {
     "base_uri": "https://localhost:8080/"
    },
    "executionInfo": {
     "elapsed": 9,
     "status": "ok",
     "timestamp": 1697158431191,
     "user": {
      "displayName": "Peter Millitz",
      "userId": "04527370084934815264"
     },
     "user_tz": -480
    },
    "id": "f2Nx2G6hL0GN",
    "outputId": "06064e07-49c9-4c0b-af0e-77d333e842e2"
   },
   "outputs": [
    {
     "data": {
      "text/plain": [
       "x                   0\n",
       "y                   0\n",
       "yinv                0\n",
       "CH_1                0\n",
       "CH_2                0\n",
       "                 ... \n",
       "CH_4094             0\n",
       "CH_4095             0\n",
       "CH_4096          4281\n",
       "Sum                 0\n",
       "Mineral Phase       0\n",
       "Length: 4101, dtype: int64"
      ]
     },
     "execution_count": 9,
     "metadata": {},
     "output_type": "execute_result"
    }
   ],
   "source": [
    "# Get the total number of missing values\n",
    "rawdata.isna().sum()"
   ]
  },
  {
   "cell_type": "code",
   "execution_count": 10,
   "id": "a8YG3zzdGf6q",
   "metadata": {
    "colab": {
     "base_uri": "https://localhost:8080/"
    },
    "executionInfo": {
     "elapsed": 2231,
     "status": "ok",
     "timestamp": 1697158436662,
     "user": {
      "displayName": "Peter Millitz",
      "userId": "04527370084934815264"
     },
     "user_tz": -480
    },
    "id": "a8YG3zzdGf6q",
    "outputId": "88404b35-168c-4e7a-ed71-2a88f359e270"
   },
   "outputs": [
    {
     "name": "stdout",
     "output_type": "stream",
     "text": [
      "{4098}\n"
     ]
    }
   ],
   "source": [
    "# Confirm missing values and get index of column(s)\n",
    "np.where(pd.isnull(rawdata))\n",
    "print(set((np.where(pd.isnull(rawdata)))[1])) # prints index of column(s) with null values"
   ]
  },
  {
   "cell_type": "code",
   "execution_count": 11,
   "id": "l_AaPAquK3fQ",
   "metadata": {
    "executionInfo": {
     "elapsed": 8,
     "status": "ok",
     "timestamp": 1697158439274,
     "user": {
      "displayName": "Peter Millitz",
      "userId": "04527370084934815264"
     },
     "user_tz": -480
    },
    "id": "l_AaPAquK3fQ"
   },
   "outputs": [],
   "source": [
    "# Replace the missing values with zeros (if applicable - channel counts only)\n",
    "rawdata.fillna(0, inplace=True)"
   ]
  },
  {
   "cell_type": "markdown",
   "id": "hmb83s5ASBib",
   "metadata": {
    "id": "hmb83s5ASBib"
   },
   "source": [
    "### 2.3 Drop unused rows and columns"
   ]
  },
  {
   "cell_type": "code",
   "execution_count": 13,
   "id": "Gvv-27Lo9G5h",
   "metadata": {
    "executionInfo": {
     "elapsed": 720,
     "status": "ok",
     "timestamp": 1697158446940,
     "user": {
      "displayName": "Peter Millitz",
      "userId": "04527370084934815264"
     },
     "user_tz": -480
    },
    "id": "Gvv-27Lo9G5h"
   },
   "outputs": [],
   "source": [
    "# Create a list of the columns to drop (retain channels 121-2500 and 'Mineral Phase' column)\n",
    "columns_to_drop = list(rawdata.columns[:123]) + list(rawdata.columns[2503:-1])\n",
    "# Drop designated columns\n",
    "rawdata.drop(columns=columns_to_drop, inplace=True, axis=1)"
   ]
  },
  {
   "cell_type": "code",
   "execution_count": 14,
   "id": "Hv09PAYK773l",
   "metadata": {
    "executionInfo": {
     "elapsed": 511,
     "status": "ok",
     "timestamp": 1697158576806,
     "user": {
      "displayName": "Peter Millitz",
      "userId": "04527370084934815264"
     },
     "user_tz": -480
    },
    "id": "Hv09PAYK773l"
   },
   "outputs": [],
   "source": [
    "# Get row indices of rows with minerals not in the followin list\n",
    "minerals_list = ['Amphibole', 'Background', 'Epidote', 'Fe-Oxide', 'Fe-Silicate',\n",
    "                 'Ilmenite', 'Monazite', 'Rutile', 'Titanite', 'Zircon']\n",
    "rows_to_delete = rawdata[~rawdata['Mineral Phase'].isin(minerals_list)].index\n",
    "# drop these row from the dataframe\n",
    "rawdata.drop(rows_to_delete, inplace = True)"
   ]
  },
  {
   "cell_type": "code",
   "execution_count": 15,
   "id": "hhy5xsrh-kDN",
   "metadata": {
    "colab": {
     "base_uri": "https://localhost:8080/"
    },
    "executionInfo": {
     "elapsed": 701,
     "status": "ok",
     "timestamp": 1697158580681,
     "user": {
      "displayName": "Peter Millitz",
      "userId": "04527370084934815264"
     },
     "user_tz": -480
    },
    "id": "hhy5xsrh-kDN",
    "outputId": "cef1ca4b-6cbc-4655-a35a-e139ff250cdf"
   },
   "outputs": [
    {
     "name": "stdout",
     "output_type": "stream",
     "text": [
      "<class 'pandas.core.frame.DataFrame'>\n",
      "Int64Index: 33180 entries, 1 to 44042\n",
      "Columns: 2381 entries, CH_121 to Mineral Phase\n",
      "dtypes: int64(2380), object(1)\n",
      "memory usage: 603.0+ MB\n"
     ]
    }
   ],
   "source": [
    "rawdata.info()"
   ]
  },
  {
   "cell_type": "markdown",
   "id": "nWizsyhrSHq5",
   "metadata": {
    "id": "nWizsyhrSHq5"
   },
   "source": [
    "### 2.4 Export the conditioned dataset"
   ]
  },
  {
   "cell_type": "code",
   "execution_count": 16,
   "id": "06iJxiCyYj-l",
   "metadata": {
    "colab": {
     "base_uri": "https://localhost:8080/",
     "height": 464
    },
    "executionInfo": {
     "elapsed": 523,
     "status": "ok",
     "timestamp": 1697158585617,
     "user": {
      "displayName": "Peter Millitz",
      "userId": "04527370084934815264"
     },
     "user_tz": -480
    },
    "id": "06iJxiCyYj-l",
    "outputId": "f39c5766-c363-48f7-d74b-2279e287d00d"
   },
   "outputs": [
    {
     "data": {
      "text/html": [
       "<div>\n",
       "<style scoped>\n",
       "    .dataframe tbody tr th:only-of-type {\n",
       "        vertical-align: middle;\n",
       "    }\n",
       "\n",
       "    .dataframe tbody tr th {\n",
       "        vertical-align: top;\n",
       "    }\n",
       "\n",
       "    .dataframe thead th {\n",
       "        text-align: right;\n",
       "    }\n",
       "</style>\n",
       "<table border=\"1\" class=\"dataframe\">\n",
       "  <thead>\n",
       "    <tr style=\"text-align: right;\">\n",
       "      <th></th>\n",
       "      <th>CH_121</th>\n",
       "      <th>CH_122</th>\n",
       "      <th>CH_123</th>\n",
       "      <th>CH_124</th>\n",
       "      <th>CH_125</th>\n",
       "      <th>CH_126</th>\n",
       "      <th>CH_127</th>\n",
       "      <th>CH_128</th>\n",
       "      <th>CH_129</th>\n",
       "      <th>CH_130</th>\n",
       "      <th>...</th>\n",
       "      <th>CH_2492</th>\n",
       "      <th>CH_2493</th>\n",
       "      <th>CH_2494</th>\n",
       "      <th>CH_2495</th>\n",
       "      <th>CH_2496</th>\n",
       "      <th>CH_2497</th>\n",
       "      <th>CH_2498</th>\n",
       "      <th>CH_2499</th>\n",
       "      <th>CH_2500</th>\n",
       "      <th>Mineral Phase</th>\n",
       "    </tr>\n",
       "  </thead>\n",
       "  <tbody>\n",
       "    <tr>\n",
       "      <th>1</th>\n",
       "      <td>0</td>\n",
       "      <td>1</td>\n",
       "      <td>0</td>\n",
       "      <td>0</td>\n",
       "      <td>0</td>\n",
       "      <td>0</td>\n",
       "      <td>1</td>\n",
       "      <td>1</td>\n",
       "      <td>0</td>\n",
       "      <td>0</td>\n",
       "      <td>...</td>\n",
       "      <td>0</td>\n",
       "      <td>1</td>\n",
       "      <td>0</td>\n",
       "      <td>0</td>\n",
       "      <td>0</td>\n",
       "      <td>0</td>\n",
       "      <td>0</td>\n",
       "      <td>0</td>\n",
       "      <td>0</td>\n",
       "      <td>Background</td>\n",
       "    </tr>\n",
       "    <tr>\n",
       "      <th>2</th>\n",
       "      <td>0</td>\n",
       "      <td>0</td>\n",
       "      <td>0</td>\n",
       "      <td>1</td>\n",
       "      <td>0</td>\n",
       "      <td>0</td>\n",
       "      <td>0</td>\n",
       "      <td>0</td>\n",
       "      <td>0</td>\n",
       "      <td>0</td>\n",
       "      <td>...</td>\n",
       "      <td>0</td>\n",
       "      <td>0</td>\n",
       "      <td>0</td>\n",
       "      <td>0</td>\n",
       "      <td>0</td>\n",
       "      <td>0</td>\n",
       "      <td>0</td>\n",
       "      <td>0</td>\n",
       "      <td>0</td>\n",
       "      <td>Fe-Oxide</td>\n",
       "    </tr>\n",
       "    <tr>\n",
       "      <th>3</th>\n",
       "      <td>0</td>\n",
       "      <td>0</td>\n",
       "      <td>0</td>\n",
       "      <td>0</td>\n",
       "      <td>0</td>\n",
       "      <td>0</td>\n",
       "      <td>0</td>\n",
       "      <td>1</td>\n",
       "      <td>0</td>\n",
       "      <td>0</td>\n",
       "      <td>...</td>\n",
       "      <td>0</td>\n",
       "      <td>0</td>\n",
       "      <td>0</td>\n",
       "      <td>0</td>\n",
       "      <td>0</td>\n",
       "      <td>0</td>\n",
       "      <td>0</td>\n",
       "      <td>1</td>\n",
       "      <td>0</td>\n",
       "      <td>Background</td>\n",
       "    </tr>\n",
       "    <tr>\n",
       "      <th>4</th>\n",
       "      <td>0</td>\n",
       "      <td>0</td>\n",
       "      <td>0</td>\n",
       "      <td>0</td>\n",
       "      <td>0</td>\n",
       "      <td>0</td>\n",
       "      <td>0</td>\n",
       "      <td>2</td>\n",
       "      <td>0</td>\n",
       "      <td>0</td>\n",
       "      <td>...</td>\n",
       "      <td>0</td>\n",
       "      <td>0</td>\n",
       "      <td>0</td>\n",
       "      <td>0</td>\n",
       "      <td>0</td>\n",
       "      <td>0</td>\n",
       "      <td>0</td>\n",
       "      <td>0</td>\n",
       "      <td>0</td>\n",
       "      <td>Fe-Oxide</td>\n",
       "    </tr>\n",
       "    <tr>\n",
       "      <th>5</th>\n",
       "      <td>0</td>\n",
       "      <td>0</td>\n",
       "      <td>0</td>\n",
       "      <td>1</td>\n",
       "      <td>0</td>\n",
       "      <td>1</td>\n",
       "      <td>0</td>\n",
       "      <td>1</td>\n",
       "      <td>0</td>\n",
       "      <td>1</td>\n",
       "      <td>...</td>\n",
       "      <td>0</td>\n",
       "      <td>0</td>\n",
       "      <td>0</td>\n",
       "      <td>1</td>\n",
       "      <td>0</td>\n",
       "      <td>0</td>\n",
       "      <td>0</td>\n",
       "      <td>0</td>\n",
       "      <td>0</td>\n",
       "      <td>Background</td>\n",
       "    </tr>\n",
       "    <tr>\n",
       "      <th>7</th>\n",
       "      <td>0</td>\n",
       "      <td>0</td>\n",
       "      <td>0</td>\n",
       "      <td>0</td>\n",
       "      <td>1</td>\n",
       "      <td>0</td>\n",
       "      <td>0</td>\n",
       "      <td>0</td>\n",
       "      <td>0</td>\n",
       "      <td>0</td>\n",
       "      <td>...</td>\n",
       "      <td>0</td>\n",
       "      <td>0</td>\n",
       "      <td>0</td>\n",
       "      <td>0</td>\n",
       "      <td>0</td>\n",
       "      <td>0</td>\n",
       "      <td>1</td>\n",
       "      <td>0</td>\n",
       "      <td>0</td>\n",
       "      <td>Ilmenite</td>\n",
       "    </tr>\n",
       "    <tr>\n",
       "      <th>8</th>\n",
       "      <td>0</td>\n",
       "      <td>0</td>\n",
       "      <td>1</td>\n",
       "      <td>0</td>\n",
       "      <td>0</td>\n",
       "      <td>0</td>\n",
       "      <td>0</td>\n",
       "      <td>0</td>\n",
       "      <td>0</td>\n",
       "      <td>0</td>\n",
       "      <td>...</td>\n",
       "      <td>0</td>\n",
       "      <td>0</td>\n",
       "      <td>0</td>\n",
       "      <td>0</td>\n",
       "      <td>0</td>\n",
       "      <td>0</td>\n",
       "      <td>0</td>\n",
       "      <td>0</td>\n",
       "      <td>0</td>\n",
       "      <td>Background</td>\n",
       "    </tr>\n",
       "    <tr>\n",
       "      <th>9</th>\n",
       "      <td>1</td>\n",
       "      <td>1</td>\n",
       "      <td>1</td>\n",
       "      <td>0</td>\n",
       "      <td>0</td>\n",
       "      <td>0</td>\n",
       "      <td>0</td>\n",
       "      <td>0</td>\n",
       "      <td>0</td>\n",
       "      <td>0</td>\n",
       "      <td>...</td>\n",
       "      <td>0</td>\n",
       "      <td>0</td>\n",
       "      <td>0</td>\n",
       "      <td>0</td>\n",
       "      <td>0</td>\n",
       "      <td>1</td>\n",
       "      <td>2</td>\n",
       "      <td>0</td>\n",
       "      <td>0</td>\n",
       "      <td>Background</td>\n",
       "    </tr>\n",
       "    <tr>\n",
       "      <th>10</th>\n",
       "      <td>0</td>\n",
       "      <td>1</td>\n",
       "      <td>0</td>\n",
       "      <td>0</td>\n",
       "      <td>0</td>\n",
       "      <td>0</td>\n",
       "      <td>0</td>\n",
       "      <td>2</td>\n",
       "      <td>1</td>\n",
       "      <td>0</td>\n",
       "      <td>...</td>\n",
       "      <td>0</td>\n",
       "      <td>1</td>\n",
       "      <td>0</td>\n",
       "      <td>1</td>\n",
       "      <td>0</td>\n",
       "      <td>0</td>\n",
       "      <td>0</td>\n",
       "      <td>0</td>\n",
       "      <td>0</td>\n",
       "      <td>Epidote</td>\n",
       "    </tr>\n",
       "    <tr>\n",
       "      <th>11</th>\n",
       "      <td>0</td>\n",
       "      <td>1</td>\n",
       "      <td>0</td>\n",
       "      <td>1</td>\n",
       "      <td>0</td>\n",
       "      <td>0</td>\n",
       "      <td>0</td>\n",
       "      <td>0</td>\n",
       "      <td>0</td>\n",
       "      <td>0</td>\n",
       "      <td>...</td>\n",
       "      <td>0</td>\n",
       "      <td>0</td>\n",
       "      <td>0</td>\n",
       "      <td>0</td>\n",
       "      <td>0</td>\n",
       "      <td>1</td>\n",
       "      <td>0</td>\n",
       "      <td>0</td>\n",
       "      <td>0</td>\n",
       "      <td>Epidote</td>\n",
       "    </tr>\n",
       "  </tbody>\n",
       "</table>\n",
       "<p>10 rows × 2381 columns</p>\n",
       "</div>"
      ],
      "text/plain": [
       "    CH_121  CH_122  CH_123  CH_124  CH_125  CH_126  CH_127  CH_128  CH_129  \\\n",
       "1        0       1       0       0       0       0       1       1       0   \n",
       "2        0       0       0       1       0       0       0       0       0   \n",
       "3        0       0       0       0       0       0       0       1       0   \n",
       "4        0       0       0       0       0       0       0       2       0   \n",
       "5        0       0       0       1       0       1       0       1       0   \n",
       "7        0       0       0       0       1       0       0       0       0   \n",
       "8        0       0       1       0       0       0       0       0       0   \n",
       "9        1       1       1       0       0       0       0       0       0   \n",
       "10       0       1       0       0       0       0       0       2       1   \n",
       "11       0       1       0       1       0       0       0       0       0   \n",
       "\n",
       "    CH_130  ...  CH_2492  CH_2493  CH_2494  CH_2495  CH_2496  CH_2497  \\\n",
       "1        0  ...        0        1        0        0        0        0   \n",
       "2        0  ...        0        0        0        0        0        0   \n",
       "3        0  ...        0        0        0        0        0        0   \n",
       "4        0  ...        0        0        0        0        0        0   \n",
       "5        1  ...        0        0        0        1        0        0   \n",
       "7        0  ...        0        0        0        0        0        0   \n",
       "8        0  ...        0        0        0        0        0        0   \n",
       "9        0  ...        0        0        0        0        0        1   \n",
       "10       0  ...        0        1        0        1        0        0   \n",
       "11       0  ...        0        0        0        0        0        1   \n",
       "\n",
       "    CH_2498  CH_2499  CH_2500  Mineral Phase  \n",
       "1         0        0        0     Background  \n",
       "2         0        0        0       Fe-Oxide  \n",
       "3         0        1        0     Background  \n",
       "4         0        0        0       Fe-Oxide  \n",
       "5         0        0        0     Background  \n",
       "7         1        0        0       Ilmenite  \n",
       "8         0        0        0     Background  \n",
       "9         2        0        0     Background  \n",
       "10        0        0        0        Epidote  \n",
       "11        0        0        0        Epidote  \n",
       "\n",
       "[10 rows x 2381 columns]"
      ]
     },
     "execution_count": 16,
     "metadata": {},
     "output_type": "execute_result"
    }
   ],
   "source": [
    "rawdata.head(10)\n",
    "#rawdata.loc[rawdata['Mineral Phase'] == 'Mineral Phase']"
   ]
  },
  {
   "cell_type": "code",
   "execution_count": 18,
   "id": "600685ab",
   "metadata": {
    "executionInfo": {
     "elapsed": 19563,
     "status": "ok",
     "timestamp": 1697159036486,
     "user": {
      "displayName": "Peter Millitz",
      "userId": "04527370084934815264"
     },
     "user_tz": -480
    },
    "id": "600685ab"
   },
   "outputs": [],
   "source": [
    "# Save the conditioned dataset as a CSV file\n",
    "rawdata.to_csv(output_csvfile, index=False)"
   ]
  },
  {
   "cell_type": "markdown",
   "id": "d876cb76",
   "metadata": {
    "id": "d876cb76"
   },
   "source": [
    "## 3. Data re-sampling (optional)"
   ]
  },
  {
   "cell_type": "markdown",
   "id": "1Tzq22tPRGAE",
   "metadata": {
    "id": "1Tzq22tPRGAE"
   },
   "source": [
    "### 3.1 Response categories"
   ]
  },
  {
   "cell_type": "code",
   "execution_count": 17,
   "id": "c6ea5627",
   "metadata": {
    "colab": {
     "base_uri": "https://localhost:8080/"
    },
    "executionInfo": {
     "elapsed": 9,
     "status": "ok",
     "timestamp": 1697158590544,
     "user": {
      "displayName": "Peter Millitz",
      "userId": "04527370084934815264"
     },
     "user_tz": -480
    },
    "id": "c6ea5627",
    "outputId": "eff9a983-4031-41ec-cc81-29010ad7d718"
   },
   "outputs": [
    {
     "data": {
      "text/plain": [
       "Mineral Phase\n",
       "Amphibole      3984\n",
       "Background     7000\n",
       "Epidote        5193\n",
       "Fe-Oxide       7000\n",
       "Fe-Silicate    1229\n",
       "Ilmenite       5808\n",
       "Monazite        408\n",
       "Rutile          611\n",
       "Titanite       1768\n",
       "Zircon          179\n",
       "dtype: int64"
      ]
     },
     "execution_count": 17,
     "metadata": {},
     "output_type": "execute_result"
    }
   ],
   "source": [
    "# Check response category proportions\n",
    "mineral_groups = rawdata.groupby('Mineral Phase').size()\n",
    "mineral_groups"
   ]
  },
  {
   "cell_type": "code",
   "execution_count": 19,
   "id": "68bc41a0",
   "metadata": {
    "colab": {
     "base_uri": "https://localhost:8080/",
     "height": 476
    },
    "executionInfo": {
     "elapsed": 804,
     "status": "ok",
     "timestamp": 1697158520942,
     "user": {
      "displayName": "Peter Millitz",
      "userId": "04527370084934815264"
     },
     "user_tz": -480
    },
    "id": "68bc41a0",
    "outputId": "8c4e7f6b-a4cb-4c05-e858-d41e96f21483"
   },
   "outputs": [
    {
     "data": {
      "image/png": "[encoded data removed]",
      "text/plain": [
       "<Figure size 640x480 with 1 Axes>"
      ]
     },
     "metadata": {},
     "output_type": "display_data"
    }
   ],
   "source": [
    "# Plot a barplot of the mineral frequencies\n",
    "\n",
    "# Sort the grouped data by count in ascending order (bottom up)\n",
    "mineral_groups = mineral_groups.sort_values(ascending=True)\n",
    "\n",
    "# Create a horizontal bar plot\n",
    "plt.barh(mineral_groups.index, mineral_groups.values)\n",
    "\n",
    "# Adding labels and title\n",
    "plt.xlabel('Count')\n",
    "plt.ylabel('Mineral Phase')\n",
    "plt.title('Bar plot depicting mineral frequency')\n",
    "plt.tick_params(axis='y', labelsize=6)\n",
    "\n",
    "# Show the plot\n",
    "plt.show()"
   ]
  },
  {
   "cell_type": "markdown",
   "id": "rEWhAFUSRnk7",
   "metadata": {
    "id": "rEWhAFUSRnk7"
   },
   "source": [
    "### 3.2 Prepare the training set"
   ]
  },
  {
   "cell_type": "code",
   "execution_count": null,
   "id": "2b0a69bd",
   "metadata": {
    "id": "2b0a69bd"
   },
   "outputs": [],
   "source": [
    " # Make a copy of the dataframe, call it X\n",
    "X = rawdata\n",
    "# breakout the 'Mineral Phase'attribute and store in y (target)\n",
    "y = X['Mineral Phase'].copy()\n",
    "# Drop response attribute from X\n",
    "X.drop(columns=['Mineral Phase'], inplace=True)"
   ]
  },
  {
   "cell_type": "code",
   "execution_count": null,
   "id": "fc8d6954",
   "metadata": {
    "id": "fc8d6954"
   },
   "outputs": [],
   "source": [
    "# Check the shape of all input arrays\n",
    "print ('The shape of X is:', X.shape)\n",
    "print ('The shape of y is: ', y.shape)\n",
    "print ('Number of training examples:', len(X))"
   ]
  },
  {
   "cell_type": "markdown",
   "id": "vBqesmWzRxcH",
   "metadata": {
    "id": "vBqesmWzRxcH"
   },
   "source": [
    "### 3.3 Balance the data set using random under-sampling"
   ]
  },
  {
   "cell_type": "code",
   "execution_count": null,
   "id": "ca417a5b",
   "metadata": {
    "id": "ca417a5b"
   },
   "outputs": [],
   "source": [
    "# Balance the data set (modify dictionary as required)\n",
    "mindict = {\"AlFe-Silicate\": 13000,\n",
    "           \"AlMn-Silicate\": 13000,\n",
    "           \"Amphibole\":     13000,\n",
    "           \"Background\":    13000,\n",
    "           \"Epidote\":       13000,\n",
    "           \"Fe-Oxide\":      13000,\n",
    "           \"Fe-Silicate\":   13000,\n",
    "           \"Ilmenite\":      13000,\n",
    "           \"Monazite\":      13000,\n",
    "           \"Rutile\":        13000,\n",
    "           \"Titanite\":      13000,\n",
    "           \"Zircon\":        13000}\n",
    "rus = RandomUnderSampler(random_state=42, sampling_strategy=mindict)\n",
    "X_resampled, y_resampled = rus.fit_resample(X, y)"
   ]
  },
  {
   "cell_type": "code",
   "execution_count": null,
   "id": "ebf060cd",
   "metadata": {
    "id": "ebf060cd"
   },
   "outputs": [],
   "source": [
    "y_resampled.value_counts()"
   ]
  },
  {
   "cell_type": "code",
   "execution_count": null,
   "id": "NaP7HLBAf0Ua",
   "metadata": {
    "id": "NaP7HLBAf0Ua"
   },
   "outputs": [],
   "source": [
    "X_resampled"
   ]
  },
  {
   "cell_type": "markdown",
   "id": "0064fa15",
   "metadata": {
    "id": "0064fa15"
   },
   "source": [
    "#### Appendix: Load and display the mineral list derived from the full dataset for reference"
   ]
  },
  {
   "cell_type": "code",
   "execution_count": 20,
   "id": "de7995cb",
   "metadata": {
    "id": "de7995cb"
   },
   "outputs": [],
   "source": [
    "# Load large Sample minerals reference list\n",
    "classes = pd.read_csv(\"G:/Modelling/labels_all.csv\")"
   ]
  },
  {
   "cell_type": "code",
   "execution_count": 21,
   "id": "cc3ffa33",
   "metadata": {
    "id": "cc3ffa33"
   },
   "outputs": [
    {
     "data": {
      "text/plain": [
       "Mineral Phase   \n",
       "Fe-Oxide            20883184\n",
       "Background          11347230\n",
       "Ilmenite             8400629\n",
       "Epidote              5195663\n",
       "Amphibole            4404669\n",
       "AlFe-Silicate        4106622\n",
       "Fe-Silicate          1784892\n",
       "Titanite             1512827\n",
       "AlMn-Silicate        1326232\n",
       "Rutile                876502\n",
       "Zircon                618053\n",
       "Monazite              408111\n",
       "Quartz                404580\n",
       "Cassiterite           371466\n",
       "AlK-Silicate          325675\n",
       "Barite                281363\n",
       "Al-Silicate           272677\n",
       "Chromite              266954\n",
       "Unknown               245718\n",
       "Leucoxene             150346\n",
       "Fe-Sulphide           146294\n",
       "AlCa-Silicate         125414\n",
       "Apatite                92279\n",
       "RM ONLY                72136\n",
       "Xenotime               66880\n",
       "Carbonate              62444\n",
       "Thorite                48635\n",
       "AlFe-Silicate_Zn       34112\n",
       "Al-Oxide               33373\n",
       "Fe-Sulphide_Cu         30730\n",
       "W-Oxide                28626\n",
       "Zn-Oxide               27213\n",
       "Fe-sulphide_Pb         26963\n",
       "Celestine              26574\n",
       "Mn-Oxide               25292\n",
       "Columbite_Mn           23806\n",
       "Cu-Oxide               19951\n",
       "Nb-bearing phase       14705\n",
       "REE-Silicate           13791\n",
       "Molybdenite            12023\n",
       "Tourmaline             10008\n",
       "Cinnabar                8465\n",
       "MgAl-Oxide              4417\n",
       "Fe-Sulphide_Zn          1902\n",
       "Bi-bearing phase         975\n",
       "Fe-Sulphide_As           148\n",
       "Pb-Oxide                  50\n",
       "Tapiolite (TaNb)          32\n",
       "Perovskite                32\n",
       "V-bearing phase           22\n",
       "Fe-Sulphide_Ni             6\n",
       "dtype: int64"
      ]
     },
     "execution_count": 21,
     "metadata": {},
     "output_type": "execute_result"
    }
   ],
   "source": [
    "# Convert from pandas dataframe to series\n",
    "classes.value_counts() # list of class frequencies"
   ]
  },
  {
   "cell_type": "code",
   "execution_count": 22,
   "id": "86198334",
   "metadata": {
    "id": "86198334"
   },
   "outputs": [
    {
     "data": {
      "image/png": "[encoded data removed]",
      "text/plain": [
       "<Figure size 640x480 with 1 Axes>"
      ]
     },
     "metadata": {},
     "output_type": "display_data"
    },
    {
     "data": {
      "text/plain": [
       "<Figure size 640x480 with 0 Axes>"
      ]
     },
     "metadata": {},
     "output_type": "display_data"
    }
   ],
   "source": [
    "# Horizontal bar plot illustrating class imbalance\n",
    "\n",
    "# Group and sort the grouped data by counts (ascending)\n",
    "minerals = classes.groupby('Mineral Phase').size()\n",
    "minerals = minerals.sort_values(ascending=True)\n",
    "\n",
    "# Create a horizontal bar plot\n",
    "plt.barh(minerals.index, minerals.values)\n",
    "\n",
    "# Adding labels and title\n",
    "plt.xlabel('Counts')\n",
    "plt.ylabel('Mineral Phase')\n",
    "plt.title('Mineral counts for the full dataset')\n",
    "plt.tick_params(axis='y', labelsize=5)\n",
    "\n",
    "# Show the plot\n",
    "plt.show()\n",
    "plt.savefig(\"Mineral_counts.png\")"
   ]
  }
 ],
 "metadata": {
  "celltoolbar": "Raw Cell Format",
  "colab": {
   "machine_shape": "hm",
   "provenance": [
    {
     "file_id": "1GiTJI9_SqvIz4noHpeeKCIk5g7vziiqJ",
     "timestamp": 1696627704620
    }
   ],
   "toc_visible": true
  },
  "kernelspec": {
   "display_name": "Python 3 (ipykernel)",
   "language": "python",
   "name": "python3"
  },
  "language_info": {
   "codemirror_mode": {
    "name": "ipython",
    "version": 3
   },
   "file_extension": ".py",
   "mimetype": "text/x-python",
   "name": "python",
   "nbconvert_exporter": "python",
   "pygments_lexer": "ipython3",
   "version": "3.11.0"
  }
 },
 "nbformat": 4,
 "nbformat_minor": 5
}
